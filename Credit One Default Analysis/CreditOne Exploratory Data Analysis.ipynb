{
 "cells": [
  {
   "cell_type": "markdown",
   "metadata": {},
   "source": [
    "## Preliminary Cleaning\n",
    "Any records contaning <= zero statement balance and a marked as late payment status were considered erroneous and deleted.\n",
    "\n",
    "Total records reduced from 30,000 to 27,963"
   ]
  },
  {
   "cell_type": "markdown",
   "metadata": {},
   "source": [
    "## Import Libraries"
   ]
  },
  {
   "cell_type": "code",
   "execution_count": 1,
   "metadata": {},
   "outputs": [],
   "source": [
    "import numpy as np\n",
    "import pandas as pd\n",
    "from pandas import Series, DataFrame\n",
    "import matplotlib as mpl\n",
    "import matplotlib.pyplot as plt\n",
    "import seaborn as sns \n",
    "import pylab\n",
    "%matplotlib inline\n",
    "\n",
    "# Set default matplot figure size\n",
    "pylab.rcParams['figure.figsize'] = (10.0, 8.0)"
   ]
  },
  {
   "cell_type": "markdown",
   "metadata": {},
   "source": [
    "## Read Data Set using Pandas"
   ]
  },
  {
   "cell_type": "code",
   "execution_count": 2,
   "metadata": {},
   "outputs": [],
   "source": [
    "credit = pd.read_csv('default of credit card clients.csv')"
   ]
  },
  {
   "cell_type": "code",
   "execution_count": 3,
   "metadata": {},
   "outputs": [
    {
     "data": {
      "text/html": [
       "<div>\n",
       "<style scoped>\n",
       "    .dataframe tbody tr th:only-of-type {\n",
       "        vertical-align: middle;\n",
       "    }\n",
       "\n",
       "    .dataframe tbody tr th {\n",
       "        vertical-align: top;\n",
       "    }\n",
       "\n",
       "    .dataframe thead th {\n",
       "        text-align: right;\n",
       "    }\n",
       "</style>\n",
       "<table border=\"1\" class=\"dataframe\">\n",
       "  <thead>\n",
       "    <tr style=\"text-align: right;\">\n",
       "      <th></th>\n",
       "      <th>ID</th>\n",
       "      <th>limit</th>\n",
       "      <th>sex</th>\n",
       "      <th>education</th>\n",
       "      <th>marriage</th>\n",
       "      <th>age</th>\n",
       "      <th>RepayStatSep2005</th>\n",
       "      <th>RepayStatAug2005</th>\n",
       "      <th>RepayStatJul2005</th>\n",
       "      <th>RepayStatJun2005</th>\n",
       "      <th>...</th>\n",
       "      <th>AmtBillStmtJun2005</th>\n",
       "      <th>AmtBillStmtMay2005</th>\n",
       "      <th>AmtBillStmtApr2005</th>\n",
       "      <th>AmtPrevPaySep2005</th>\n",
       "      <th>AmtPrevPayAug2005</th>\n",
       "      <th>AmtPrevPayJul2005</th>\n",
       "      <th>AmtPrevPayJun2005</th>\n",
       "      <th>AmtPrevPayMay2005</th>\n",
       "      <th>AmtPrevPayApr2005</th>\n",
       "      <th>default</th>\n",
       "    </tr>\n",
       "  </thead>\n",
       "  <tbody>\n",
       "    <tr>\n",
       "      <th>0</th>\n",
       "      <td>1</td>\n",
       "      <td>20000</td>\n",
       "      <td>2</td>\n",
       "      <td>2</td>\n",
       "      <td>1</td>\n",
       "      <td>24</td>\n",
       "      <td>2</td>\n",
       "      <td>2</td>\n",
       "      <td>-1</td>\n",
       "      <td>-1</td>\n",
       "      <td>...</td>\n",
       "      <td>0</td>\n",
       "      <td>0</td>\n",
       "      <td>0</td>\n",
       "      <td>0</td>\n",
       "      <td>689</td>\n",
       "      <td>0</td>\n",
       "      <td>0</td>\n",
       "      <td>0</td>\n",
       "      <td>0</td>\n",
       "      <td>1</td>\n",
       "    </tr>\n",
       "    <tr>\n",
       "      <th>1</th>\n",
       "      <td>2</td>\n",
       "      <td>120000</td>\n",
       "      <td>2</td>\n",
       "      <td>2</td>\n",
       "      <td>2</td>\n",
       "      <td>26</td>\n",
       "      <td>-1</td>\n",
       "      <td>2</td>\n",
       "      <td>0</td>\n",
       "      <td>0</td>\n",
       "      <td>...</td>\n",
       "      <td>3272</td>\n",
       "      <td>3455</td>\n",
       "      <td>3261</td>\n",
       "      <td>0</td>\n",
       "      <td>1000</td>\n",
       "      <td>1000</td>\n",
       "      <td>1000</td>\n",
       "      <td>0</td>\n",
       "      <td>2000</td>\n",
       "      <td>1</td>\n",
       "    </tr>\n",
       "    <tr>\n",
       "      <th>2</th>\n",
       "      <td>3</td>\n",
       "      <td>90000</td>\n",
       "      <td>2</td>\n",
       "      <td>2</td>\n",
       "      <td>2</td>\n",
       "      <td>34</td>\n",
       "      <td>0</td>\n",
       "      <td>0</td>\n",
       "      <td>0</td>\n",
       "      <td>0</td>\n",
       "      <td>...</td>\n",
       "      <td>14331</td>\n",
       "      <td>14948</td>\n",
       "      <td>15549</td>\n",
       "      <td>1518</td>\n",
       "      <td>1500</td>\n",
       "      <td>1000</td>\n",
       "      <td>1000</td>\n",
       "      <td>1000</td>\n",
       "      <td>5000</td>\n",
       "      <td>0</td>\n",
       "    </tr>\n",
       "    <tr>\n",
       "      <th>3</th>\n",
       "      <td>4</td>\n",
       "      <td>50000</td>\n",
       "      <td>2</td>\n",
       "      <td>2</td>\n",
       "      <td>1</td>\n",
       "      <td>37</td>\n",
       "      <td>0</td>\n",
       "      <td>0</td>\n",
       "      <td>0</td>\n",
       "      <td>0</td>\n",
       "      <td>...</td>\n",
       "      <td>28314</td>\n",
       "      <td>28959</td>\n",
       "      <td>29547</td>\n",
       "      <td>2000</td>\n",
       "      <td>2019</td>\n",
       "      <td>1200</td>\n",
       "      <td>1100</td>\n",
       "      <td>1069</td>\n",
       "      <td>1000</td>\n",
       "      <td>0</td>\n",
       "    </tr>\n",
       "    <tr>\n",
       "      <th>4</th>\n",
       "      <td>5</td>\n",
       "      <td>50000</td>\n",
       "      <td>1</td>\n",
       "      <td>2</td>\n",
       "      <td>1</td>\n",
       "      <td>57</td>\n",
       "      <td>-1</td>\n",
       "      <td>0</td>\n",
       "      <td>-1</td>\n",
       "      <td>0</td>\n",
       "      <td>...</td>\n",
       "      <td>20940</td>\n",
       "      <td>19146</td>\n",
       "      <td>19131</td>\n",
       "      <td>2000</td>\n",
       "      <td>36681</td>\n",
       "      <td>10000</td>\n",
       "      <td>9000</td>\n",
       "      <td>689</td>\n",
       "      <td>679</td>\n",
       "      <td>0</td>\n",
       "    </tr>\n",
       "  </tbody>\n",
       "</table>\n",
       "<p>5 rows × 25 columns</p>\n",
       "</div>"
      ],
      "text/plain": [
       "   ID   limit  sex  education  marriage  age  RepayStatSep2005  \\\n",
       "0   1   20000    2          2         1   24                 2   \n",
       "1   2  120000    2          2         2   26                -1   \n",
       "2   3   90000    2          2         2   34                 0   \n",
       "3   4   50000    2          2         1   37                 0   \n",
       "4   5   50000    1          2         1   57                -1   \n",
       "\n",
       "   RepayStatAug2005  RepayStatJul2005  RepayStatJun2005   ...     \\\n",
       "0                 2                -1                -1   ...      \n",
       "1                 2                 0                 0   ...      \n",
       "2                 0                 0                 0   ...      \n",
       "3                 0                 0                 0   ...      \n",
       "4                 0                -1                 0   ...      \n",
       "\n",
       "   AmtBillStmtJun2005  AmtBillStmtMay2005  AmtBillStmtApr2005  \\\n",
       "0                   0                   0                   0   \n",
       "1                3272                3455                3261   \n",
       "2               14331               14948               15549   \n",
       "3               28314               28959               29547   \n",
       "4               20940               19146               19131   \n",
       "\n",
       "   AmtPrevPaySep2005  AmtPrevPayAug2005  AmtPrevPayJul2005  AmtPrevPayJun2005  \\\n",
       "0                  0                689                  0                  0   \n",
       "1                  0               1000               1000               1000   \n",
       "2               1518               1500               1000               1000   \n",
       "3               2000               2019               1200               1100   \n",
       "4               2000              36681              10000               9000   \n",
       "\n",
       "   AmtPrevPayMay2005  AmtPrevPayApr2005  default  \n",
       "0                  0                  0        1  \n",
       "1                  0               2000        1  \n",
       "2               1000               5000        0  \n",
       "3               1069               1000        0  \n",
       "4                689                679        0  \n",
       "\n",
       "[5 rows x 25 columns]"
      ]
     },
     "execution_count": 3,
     "metadata": {},
     "output_type": "execute_result"
    }
   ],
   "source": [
    "# Check the first 5 rows of the data frame\n",
    "credit.head()"
   ]
  },
  {
   "cell_type": "code",
   "execution_count": 4,
   "metadata": {
    "scrolled": false
   },
   "outputs": [
    {
     "data": {
      "text/plain": [
       "Index(['ID', 'limit', 'sex', 'education', 'marriage', 'age',\n",
       "       'RepayStatSep2005', 'RepayStatAug2005', 'RepayStatJul2005',\n",
       "       'RepayStatJun2005', 'RepayStatMay2005', 'RepayStatApr2005',\n",
       "       'AmtBillStmtSep2005', 'AmtBillStmtAug2005', 'AmtBillStmtJul2005',\n",
       "       'AmtBillStmtJun2005', 'AmtBillStmtMay2005', 'AmtBillStmtApr2005',\n",
       "       'AmtPrevPaySep2005', 'AmtPrevPayAug2005', 'AmtPrevPayJul2005',\n",
       "       'AmtPrevPayJun2005', 'AmtPrevPayMay2005', 'AmtPrevPayApr2005',\n",
       "       'default'],\n",
       "      dtype='object')"
      ]
     },
     "execution_count": 4,
     "metadata": {},
     "output_type": "execute_result"
    }
   ],
   "source": [
    "# Column names\n",
    "credit.columns"
   ]
  },
  {
   "cell_type": "code",
   "execution_count": 5,
   "metadata": {},
   "outputs": [
    {
     "name": "stdout",
     "output_type": "stream",
     "text": [
      "<class 'pandas.core.frame.DataFrame'>\n",
      "RangeIndex: 27963 entries, 0 to 27962\n",
      "Data columns (total 25 columns):\n",
      "ID                    27963 non-null int64\n",
      "limit                 27963 non-null int64\n",
      "sex                   27963 non-null int64\n",
      "education             27963 non-null int64\n",
      "marriage              27963 non-null int64\n",
      "age                   27963 non-null int64\n",
      "RepayStatSep2005      27963 non-null int64\n",
      "RepayStatAug2005      27963 non-null int64\n",
      "RepayStatJul2005      27963 non-null int64\n",
      "RepayStatJun2005      27963 non-null int64\n",
      "RepayStatMay2005      27963 non-null int64\n",
      "RepayStatApr2005      27963 non-null int64\n",
      "AmtBillStmtSep2005    27963 non-null int64\n",
      "AmtBillStmtAug2005    27963 non-null int64\n",
      "AmtBillStmtJul2005    27963 non-null int64\n",
      "AmtBillStmtJun2005    27963 non-null int64\n",
      "AmtBillStmtMay2005    27963 non-null int64\n",
      "AmtBillStmtApr2005    27963 non-null int64\n",
      "AmtPrevPaySep2005     27963 non-null int64\n",
      "AmtPrevPayAug2005     27963 non-null int64\n",
      "AmtPrevPayJul2005     27963 non-null int64\n",
      "AmtPrevPayJun2005     27963 non-null int64\n",
      "AmtPrevPayMay2005     27963 non-null int64\n",
      "AmtPrevPayApr2005     27963 non-null int64\n",
      "default               27963 non-null int64\n",
      "dtypes: int64(25)\n",
      "memory usage: 5.3 MB\n"
     ]
    }
   ],
   "source": [
    "# Information about the data set\n",
    "credit.info()"
   ]
  },
  {
   "cell_type": "markdown",
   "metadata": {},
   "source": [
    "## Default Analysis"
   ]
  },
  {
   "cell_type": "code",
   "execution_count": 6,
   "metadata": {
    "scrolled": true
   },
   "outputs": [
    {
     "data": {
      "text/plain": [
       "default\n",
       "0    21936\n",
       "1     6027\n",
       "Name: default, dtype: int64"
      ]
     },
     "execution_count": 6,
     "metadata": {},
     "output_type": "execute_result"
    }
   ],
   "source": [
    "# Number of default payments\n",
    "# 0 - No\n",
    "# 1 - Yes\n",
    "credit.groupby('default')['default'].count()"
   ]
  },
  {
   "cell_type": "code",
   "execution_count": 7,
   "metadata": {},
   "outputs": [
    {
     "data": {
      "text/plain": [
       "<seaborn.axisgrid.FacetGrid at 0x26c25a93160>"
      ]
     },
     "execution_count": 7,
     "metadata": {},
     "output_type": "execute_result"
    },
    {
     "data": {
      "image/png": "[encoded data removed]",
      "text/plain": [
       "<matplotlib.figure.Figure at 0x26c290ec898>"
      ]
     },
     "metadata": {},
     "output_type": "display_data"
    }
   ],
   "source": [
    "# Plot the number of default payments\n",
    "sns.factorplot('default', data=credit, kind='count', aspect=2)"
   ]
  },
  {
   "cell_type": "markdown",
   "metadata": {},
   "source": [
    "## Age Analysis"
   ]
  },
  {
   "cell_type": "code",
   "execution_count": 8,
   "metadata": {},
   "outputs": [
    {
     "name": "stdout",
     "output_type": "stream",
     "text": [
      "Average and median age of customers are 35 and 34 years old, respectively\n"
     ]
    }
   ],
   "source": [
    "print('Average and median age of customers are %0.f and %0.f years old, respectively'%(credit.age.mean(), credit.age.median()))"
   ]
  },
  {
   "cell_type": "code",
   "execution_count": 9,
   "metadata": {
    "scrolled": false
   },
   "outputs": [
    {
     "data": {
      "text/plain": [
       "count    27963.000000\n",
       "mean        35.433716\n",
       "std          9.213961\n",
       "min         21.000000\n",
       "25%         28.000000\n",
       "50%         34.000000\n",
       "75%         41.000000\n",
       "max         79.000000\n",
       "Name: age, dtype: float64"
      ]
     },
     "execution_count": 9,
     "metadata": {},
     "output_type": "execute_result"
    }
   ],
   "source": [
    "credit.age.describe()"
   ]
  },
  {
   "cell_type": "code",
   "execution_count": 125,
   "metadata": {},
   "outputs": [],
   "source": [
    "credit.to_csv('limitdata.csv')"
   ]
  },
  {
   "cell_type": "code",
   "execution_count": 78,
   "metadata": {
    "scrolled": false
   },
   "outputs": [
    {
     "data": {
      "text/plain": [
       "Text(0.5,1,\"Distribution of Customers' Ages\")"
      ]
     },
     "execution_count": 78,
     "metadata": {},
     "output_type": "execute_result"
    },
    {
     "data": {
      "image/png": "[encoded data removed]",
      "text/plain": [
       "<matplotlib.figure.Figure at 0x26c2d8bad68>"
      ]
     },
     "metadata": {},
     "output_type": "display_data"
    }
   ],
   "source": [
    "# Distribution of age, with an overlay of a density plot\n",
    "age_dist = sns.distplot(credit.age)\n",
    "age_dist.set_title(\"Distribution of Customers' Ages\")"
   ]
  },
  {
   "cell_type": "code",
   "execution_count": 11,
   "metadata": {},
   "outputs": [],
   "source": [
    "#Create Age Bins\n",
    "bins = [18,24,34,44,54,80]"
   ]
  },
  {
   "cell_type": "code",
   "execution_count": 12,
   "metadata": {},
   "outputs": [],
   "source": [
    "groupNames = ['18-24','25-34','35-44','45-54','55+']"
   ]
  },
  {
   "cell_type": "code",
   "execution_count": 13,
   "metadata": {},
   "outputs": [],
   "source": [
    "credit['AgeBracket'] = pd.cut(credit['age'], bins, labels = groupNames)"
   ]
  },
  {
   "cell_type": "code",
   "execution_count": 14,
   "metadata": {
    "scrolled": true
   },
   "outputs": [
    {
     "data": {
      "text/plain": [
       "AgeBracket\n",
       "18-24     2564\n",
       "25-34    12115\n",
       "35-44     8381\n",
       "45-54     3938\n",
       "55+        965\n",
       "Name: AgeBracket, dtype: int64"
      ]
     },
     "execution_count": 14,
     "metadata": {},
     "output_type": "execute_result"
    }
   ],
   "source": [
    "# Number of customers in each age bracket\n",
    "credit.groupby('AgeBracket')['AgeBracket'].count()"
   ]
  },
  {
   "cell_type": "code",
   "execution_count": 120,
   "metadata": {},
   "outputs": [],
   "source": [
    "#Create limit Bins\n",
    "bins = [0,49999,99999,149999,199999,299999,399999,499999,1000000]"
   ]
  },
  {
   "cell_type": "code",
   "execution_count": 121,
   "metadata": {},
   "outputs": [],
   "source": [
    "groupNames = ['0-50k','50k-100k','100k-150k','150k-200k','200k-300k','300k-400k','400k-500k','500k+']"
   ]
  },
  {
   "cell_type": "code",
   "execution_count": 122,
   "metadata": {},
   "outputs": [],
   "source": [
    "credit['LimitBracket'] = pd.cut(credit['limit'], bins, labels = groupNames)"
   ]
  },
  {
   "cell_type": "code",
   "execution_count": 123,
   "metadata": {},
   "outputs": [
    {
     "data": {
      "text/plain": [
       "LimitBracket\n",
       "0-50k        4105\n",
       "50k-100k     6818\n",
       "100k-150k    3570\n",
       "150k-200k    3248\n",
       "200k-300k    5512\n",
       "300k-400k    2744\n",
       "400k-500k    1083\n",
       "500k+         883\n",
       "Name: LimitBracket, dtype: int64"
      ]
     },
     "execution_count": 123,
     "metadata": {},
     "output_type": "execute_result"
    }
   ],
   "source": [
    "credit.groupby('LimitBracket')['LimitBracket'].count()"
   ]
  },
  {
   "cell_type": "code",
   "execution_count": 124,
   "metadata": {
    "scrolled": false
   },
   "outputs": [
    {
     "data": {
      "text/plain": [
       "LimitBracket\n",
       "0-50k        0.359805\n",
       "50k-100k     0.258287\n",
       "100k-150k    0.230812\n",
       "150k-200k    0.170874\n",
       "200k-300k    0.151669\n",
       "300k-400k    0.128644\n",
       "400k-500k    0.121884\n",
       "500k+        0.100793\n",
       "Name: default, dtype: float64"
      ]
     },
     "execution_count": 124,
     "metadata": {},
     "output_type": "execute_result"
    }
   ],
   "source": [
    "# Number of customers in each age bracket\n",
    "credit.groupby('LimitBracket').default.mean()"
   ]
  },
  {
   "cell_type": "code",
   "execution_count": 71,
   "metadata": {},
   "outputs": [
    {
     "data": {
      "image/png": "[encoded data removed]",
      "text/plain": [
       "<matplotlib.figure.Figure at 0x26c2d107d30>"
      ]
     },
     "metadata": {},
     "output_type": "display_data"
    }
   ],
   "source": [
    "plt.hist(credit['limit'])\n",
    "plt.show()"
   ]
  },
  {
   "cell_type": "code",
   "execution_count": 76,
   "metadata": {},
   "outputs": [
    {
     "data": {
      "text/plain": [
       "(array([7.325e+03, 4.572e+03, 3.619e+03, 3.612e+03, 2.641e+03, 1.987e+03,\n",
       "        1.144e+03, 1.355e+03, 5.340e+02, 9.710e+02, 7.500e+01, 5.000e+01,\n",
       "        3.700e+01, 1.900e+01, 1.600e+01, 5.000e+00, 0.000e+00, 0.000e+00,\n",
       "        0.000e+00, 1.000e+00]),\n",
       " array([  10000.,   59500.,  109000.,  158500.,  208000.,  257500.,\n",
       "         307000.,  356500.,  406000.,  455500.,  505000.,  554500.,\n",
       "         604000.,  653500.,  703000.,  752500.,  802000.,  851500.,\n",
       "         901000.,  950500., 1000000.]),\n",
       " <a list of 20 Patch objects>)"
      ]
     },
     "execution_count": 76,
     "metadata": {},
     "output_type": "execute_result"
    },
    {
     "data": {
      "image/png": "[encoded data removed]",
      "text/plain": [
       "<matplotlib.figure.Figure at 0x26c2d829978>"
      ]
     },
     "metadata": {},
     "output_type": "display_data"
    }
   ],
   "source": [
    "plt.hist(credit['limit'], bins=20)"
   ]
  },
  {
   "cell_type": "code",
   "execution_count": 15,
   "metadata": {},
   "outputs": [],
   "source": [
    "credit.to_csv('cleandata.csv')"
   ]
  },
  {
   "cell_type": "code",
   "execution_count": 16,
   "metadata": {
    "scrolled": false
   },
   "outputs": [
    {
     "data": {
      "text/plain": [
       "<seaborn.axisgrid.FacetGrid at 0x26c29241160>"
      ]
     },
     "execution_count": 16,
     "metadata": {},
     "output_type": "execute_result"
    },
    {
     "data": {
      "image/png": "[encoded data removed]",
      "text/plain": [
       "<matplotlib.figure.Figure at 0x26c2922b0f0>"
      ]
     },
     "metadata": {},
     "output_type": "display_data"
    }
   ],
   "source": [
    "#Plot the count of customers in each age bracket\n",
    "fg = sns.factorplot('AgeBracket', data=credit, kind='count', aspect=2)\n",
    "fg.set_xlabels('Age Bracket')"
   ]
  },
  {
   "cell_type": "markdown",
   "metadata": {},
   "source": [
    "Over 90% of the records are for customers age 21-49"
   ]
  },
  {
   "cell_type": "code",
   "execution_count": 17,
   "metadata": {
    "scrolled": true
   },
   "outputs": [
    {
     "data": {
      "text/plain": [
       "AgeBracket\n",
       "18-24     60725.429017\n",
       "25-34    170066.859265\n",
       "35-44    192022.154874\n",
       "45-54    168154.393093\n",
       "55+      159492.227979\n",
       "Name: limit, dtype: float64"
      ]
     },
     "execution_count": 17,
     "metadata": {},
     "output_type": "execute_result"
    }
   ],
   "source": [
    "# average limit amount by age group\n",
    "credit.groupby('AgeBracket').limit.mean()"
   ]
  },
  {
   "cell_type": "code",
   "execution_count": 18,
   "metadata": {
    "scrolled": true
   },
   "outputs": [
    {
     "data": {
      "text/plain": [
       "AgeBracket\n",
       "18-24    0.270671\n",
       "25-34    0.197854\n",
       "35-44    0.212504\n",
       "45-54    0.233621\n",
       "55+      0.243523\n",
       "Name: default, dtype: float64"
      ]
     },
     "execution_count": 18,
     "metadata": {},
     "output_type": "execute_result"
    }
   ],
   "source": [
    "# % of defaults by age group\n",
    "credit.groupby('AgeBracket').default.mean()"
   ]
  },
  {
   "cell_type": "markdown",
   "metadata": {},
   "source": [
    "## Gender Analysis"
   ]
  },
  {
   "cell_type": "code",
   "execution_count": 19,
   "metadata": {
    "scrolled": false
   },
   "outputs": [
    {
     "data": {
      "text/plain": [
       "sex\n",
       "1    11150\n",
       "2    16813\n",
       "Name: sex, dtype: int64"
      ]
     },
     "execution_count": 19,
     "metadata": {},
     "output_type": "execute_result"
    }
   ],
   "source": [
    "# Number of customers by gender\n",
    "# 1 - Male\n",
    "# 2 - Female\n",
    "credit.groupby('sex').sex.count()"
   ]
  },
  {
   "cell_type": "code",
   "execution_count": 20,
   "metadata": {
    "scrolled": true
   },
   "outputs": [
    {
     "data": {
      "text/plain": [
       "<seaborn.axisgrid.FacetGrid at 0x26c29230128>"
      ]
     },
     "execution_count": 20,
     "metadata": {},
     "output_type": "execute_result"
    },
    {
     "data": {
      "image/png": "[encoded data removed]",
      "text/plain": [
       "<matplotlib.figure.Figure at 0x26c291933c8>"
      ]
     },
     "metadata": {},
     "output_type": "display_data"
    }
   ],
   "source": [
    "#Plot the count of customers in each age bracket\n",
    "fg = sns.factorplot('sex', data=credit, kind='count', aspect=2)\n",
    "fg.set_xlabels('Gender')"
   ]
  },
  {
   "cell_type": "markdown",
   "metadata": {},
   "source": [
    "The number of females outnumber men nearly 3 to 2."
   ]
  },
  {
   "cell_type": "code",
   "execution_count": 21,
   "metadata": {},
   "outputs": [
    {
     "data": {
      "text/plain": [
       "sex\n",
       "1    161954.590135\n",
       "2    168661.511925\n",
       "Name: limit, dtype: float64"
      ]
     },
     "execution_count": 21,
     "metadata": {},
     "output_type": "execute_result"
    }
   ],
   "source": [
    "# average limit amount gender\n",
    "credit.groupby('sex').limit.mean()"
   ]
  },
  {
   "cell_type": "code",
   "execution_count": 22,
   "metadata": {
    "scrolled": false
   },
   "outputs": [
    {
     "data": {
      "text/plain": [
       "sex\n",
       "1    0.234888\n",
       "2    0.202700\n",
       "Name: default, dtype: float64"
      ]
     },
     "execution_count": 22,
     "metadata": {},
     "output_type": "execute_result"
    }
   ],
   "source": [
    "# % of defaults by gender\n",
    "credit.groupby('sex').default.mean()"
   ]
  },
  {
   "cell_type": "code",
   "execution_count": 23,
   "metadata": {
    "scrolled": false
   },
   "outputs": [
    {
     "data": {
      "text/plain": [
       "sex  AgeBracket\n",
       "1    18-24          740\n",
       "     25-34         4631\n",
       "     35-44         3501\n",
       "     45-54         1770\n",
       "     55+            508\n",
       "2    18-24         1824\n",
       "     25-34         7484\n",
       "     35-44         4880\n",
       "     45-54         2168\n",
       "     55+            457\n",
       "Name: sex, dtype: int64"
      ]
     },
     "execution_count": 23,
     "metadata": {},
     "output_type": "execute_result"
    }
   ],
   "source": [
    "# Number of men and women in each age group\n",
    "credit.groupby(['sex', 'AgeBracket'])['sex'].count()"
   ]
  },
  {
   "cell_type": "code",
   "execution_count": 126,
   "metadata": {
    "scrolled": true
   },
   "outputs": [
    {
     "data": {
      "text/plain": [
       "AgeBracket\n",
       "18-24    0.270671\n",
       "25-34    0.197854\n",
       "35-44    0.212504\n",
       "45-54    0.233621\n",
       "55+      0.243523\n",
       "Name: default, dtype: float64"
      ]
     },
     "execution_count": 126,
     "metadata": {},
     "output_type": "execute_result"
    }
   ],
   "source": [
    "# % of defaults by men and women in each age group\n",
    "credit.groupby(['AgeBracket'])['default'].mean()"
   ]
  },
  {
   "cell_type": "code",
   "execution_count": 25,
   "metadata": {
    "scrolled": true
   },
   "outputs": [
    {
     "data": {
      "text/plain": [
       "sex  AgeBracket\n",
       "1    18-24          226\n",
       "     25-34          978\n",
       "     35-44          842\n",
       "     45-54          455\n",
       "     55+            118\n",
       "2    18-24          468\n",
       "     25-34         1419\n",
       "     35-44          939\n",
       "     45-54          465\n",
       "     55+            117\n",
       "Name: default, dtype: int64"
      ]
     },
     "execution_count": 25,
     "metadata": {},
     "output_type": "execute_result"
    }
   ],
   "source": [
    "credit.groupby(['sex', 'AgeBracket'])['default'].sum()"
   ]
  },
  {
   "cell_type": "markdown",
   "metadata": {},
   "source": [
    "Women trend to default in the higher age brackets while mean seem to peak around their 50's.\n",
    "Should also be noted that the number of records in the higher age brackets is very low compared to the rest of the data set so later trends should not be considered as heavily."
   ]
  },
  {
   "cell_type": "code",
   "execution_count": 26,
   "metadata": {
    "scrolled": true
   },
   "outputs": [
    {
     "data": {
      "text/plain": [
       "<seaborn.axisgrid.FacetGrid at 0x26c29386cf8>"
      ]
     },
     "execution_count": 26,
     "metadata": {},
     "output_type": "execute_result"
    },
    {
     "data": {
      "image/png": "[encoded data removed]",
      "text/plain": [
       "<matplotlib.figure.Figure at 0x26c29386470>"
      ]
     },
     "metadata": {},
     "output_type": "display_data"
    }
   ],
   "source": [
    "# Group by gender and age group\n",
    "g = sns.factorplot('AgeBracket', data=credit, hue='sex', kind='count', aspect=1.75)\n",
    "g.set_xlabels('Age Bracket')"
   ]
  },
  {
   "cell_type": "markdown",
   "metadata": {},
   "source": [
    "As shown in the figure above the number of female customers is nearly double amount of males in age groups 20 and 30. However that ratio becomes much closer as the age groups increase to 40 and beyond."
   ]
  },
  {
   "cell_type": "code",
   "execution_count": 27,
   "metadata": {
    "scrolled": true
   },
   "outputs": [
    {
     "data": {
      "text/html": [
       "<div>\n",
       "<style scoped>\n",
       "    .dataframe tbody tr th:only-of-type {\n",
       "        vertical-align: middle;\n",
       "    }\n",
       "\n",
       "    .dataframe tbody tr th {\n",
       "        vertical-align: top;\n",
       "    }\n",
       "\n",
       "    .dataframe thead th {\n",
       "        text-align: right;\n",
       "    }\n",
       "</style>\n",
       "<table border=\"1\" class=\"dataframe\">\n",
       "  <thead>\n",
       "    <tr style=\"text-align: right;\">\n",
       "      <th>AgeBracket</th>\n",
       "      <th>18-24</th>\n",
       "      <th>25-34</th>\n",
       "      <th>35-44</th>\n",
       "      <th>45-54</th>\n",
       "      <th>55+</th>\n",
       "      <th>All</th>\n",
       "    </tr>\n",
       "    <tr>\n",
       "      <th>sex</th>\n",
       "      <th></th>\n",
       "      <th></th>\n",
       "      <th></th>\n",
       "      <th></th>\n",
       "      <th></th>\n",
       "      <th></th>\n",
       "    </tr>\n",
       "  </thead>\n",
       "  <tbody>\n",
       "    <tr>\n",
       "      <th>1</th>\n",
       "      <td>226</td>\n",
       "      <td>978</td>\n",
       "      <td>842</td>\n",
       "      <td>455</td>\n",
       "      <td>118</td>\n",
       "      <td>2619</td>\n",
       "    </tr>\n",
       "    <tr>\n",
       "      <th>2</th>\n",
       "      <td>468</td>\n",
       "      <td>1419</td>\n",
       "      <td>939</td>\n",
       "      <td>465</td>\n",
       "      <td>117</td>\n",
       "      <td>3408</td>\n",
       "    </tr>\n",
       "    <tr>\n",
       "      <th>All</th>\n",
       "      <td>694</td>\n",
       "      <td>2397</td>\n",
       "      <td>1781</td>\n",
       "      <td>920</td>\n",
       "      <td>235</td>\n",
       "      <td>6027</td>\n",
       "    </tr>\n",
       "  </tbody>\n",
       "</table>\n",
       "</div>"
      ],
      "text/plain": [
       "AgeBracket  18-24  25-34  35-44  45-54  55+   All\n",
       "sex                                              \n",
       "1             226    978    842    455  118  2619\n",
       "2             468   1419    939    465  117  3408\n",
       "All           694   2397   1781    920  235  6027"
      ]
     },
     "execution_count": 27,
     "metadata": {},
     "output_type": "execute_result"
    }
   ],
   "source": [
    "# Number of customers who defaulted in each age group by gender.\n",
    "credit.pivot_table('default', 'sex', 'AgeBracket', aggfunc=np.sum, margins=True)"
   ]
  },
  {
   "cell_type": "code",
   "execution_count": 28,
   "metadata": {},
   "outputs": [],
   "source": [
    "non_def = credit[credit['default']==0]"
   ]
  },
  {
   "cell_type": "code",
   "execution_count": 29,
   "metadata": {},
   "outputs": [
    {
     "data": {
      "text/plain": [
       "21936"
      ]
     },
     "execution_count": 29,
     "metadata": {},
     "output_type": "execute_result"
    }
   ],
   "source": [
    "#Total number of customers who did not default\n",
    "len(non_def)"
   ]
  },
  {
   "cell_type": "code",
   "execution_count": 30,
   "metadata": {
    "scrolled": true
   },
   "outputs": [
    {
     "data": {
      "text/html": [
       "<div>\n",
       "<style scoped>\n",
       "    .dataframe tbody tr th:only-of-type {\n",
       "        vertical-align: middle;\n",
       "    }\n",
       "\n",
       "    .dataframe tbody tr th {\n",
       "        vertical-align: top;\n",
       "    }\n",
       "\n",
       "    .dataframe thead th {\n",
       "        text-align: right;\n",
       "    }\n",
       "</style>\n",
       "<table border=\"1\" class=\"dataframe\">\n",
       "  <thead>\n",
       "    <tr style=\"text-align: right;\">\n",
       "      <th>AgeBracket</th>\n",
       "      <th>18-24</th>\n",
       "      <th>25-34</th>\n",
       "      <th>35-44</th>\n",
       "      <th>45-54</th>\n",
       "      <th>55+</th>\n",
       "      <th>All</th>\n",
       "    </tr>\n",
       "    <tr>\n",
       "      <th>sex</th>\n",
       "      <th></th>\n",
       "      <th></th>\n",
       "      <th></th>\n",
       "      <th></th>\n",
       "      <th></th>\n",
       "      <th></th>\n",
       "    </tr>\n",
       "  </thead>\n",
       "  <tbody>\n",
       "    <tr>\n",
       "      <th>1</th>\n",
       "      <td>514</td>\n",
       "      <td>3653</td>\n",
       "      <td>2659</td>\n",
       "      <td>1315</td>\n",
       "      <td>390</td>\n",
       "      <td>8531</td>\n",
       "    </tr>\n",
       "    <tr>\n",
       "      <th>2</th>\n",
       "      <td>1356</td>\n",
       "      <td>6065</td>\n",
       "      <td>3941</td>\n",
       "      <td>1703</td>\n",
       "      <td>340</td>\n",
       "      <td>13405</td>\n",
       "    </tr>\n",
       "    <tr>\n",
       "      <th>All</th>\n",
       "      <td>1870</td>\n",
       "      <td>9718</td>\n",
       "      <td>6600</td>\n",
       "      <td>3018</td>\n",
       "      <td>730</td>\n",
       "      <td>21936</td>\n",
       "    </tr>\n",
       "  </tbody>\n",
       "</table>\n",
       "</div>"
      ],
      "text/plain": [
       "AgeBracket  18-24  25-34  35-44  45-54  55+    All\n",
       "sex                                               \n",
       "1             514   3653   2659   1315  390   8531\n",
       "2            1356   6065   3941   1703  340  13405\n",
       "All          1870   9718   6600   3018  730  21936"
      ]
     },
     "execution_count": 30,
     "metadata": {},
     "output_type": "execute_result"
    }
   ],
   "source": [
    "# Number of customers who did NOT defaulted in each age group by gender\n",
    "non_def.pivot_table('default', 'sex', 'AgeBracket', aggfunc=len, margins=True)"
   ]
  },
  {
   "cell_type": "code",
   "execution_count": 31,
   "metadata": {},
   "outputs": [
    {
     "data": {
      "text/html": [
       "<div>\n",
       "<style scoped>\n",
       "    .dataframe tbody tr th:only-of-type {\n",
       "        vertical-align: middle;\n",
       "    }\n",
       "\n",
       "    .dataframe tbody tr th {\n",
       "        vertical-align: top;\n",
       "    }\n",
       "\n",
       "    .dataframe thead th {\n",
       "        text-align: right;\n",
       "    }\n",
       "</style>\n",
       "<table border=\"1\" class=\"dataframe\">\n",
       "  <thead>\n",
       "    <tr style=\"text-align: right;\">\n",
       "      <th></th>\n",
       "      <th>sex</th>\n",
       "      <th>1</th>\n",
       "      <th>2</th>\n",
       "    </tr>\n",
       "    <tr>\n",
       "      <th>default</th>\n",
       "      <th>AgeBracket</th>\n",
       "      <th></th>\n",
       "      <th></th>\n",
       "    </tr>\n",
       "  </thead>\n",
       "  <tbody>\n",
       "    <tr>\n",
       "      <th rowspan=\"5\" valign=\"top\">0</th>\n",
       "      <th>18-24</th>\n",
       "      <td>514</td>\n",
       "      <td>1356</td>\n",
       "    </tr>\n",
       "    <tr>\n",
       "      <th>25-34</th>\n",
       "      <td>3653</td>\n",
       "      <td>6065</td>\n",
       "    </tr>\n",
       "    <tr>\n",
       "      <th>35-44</th>\n",
       "      <td>2659</td>\n",
       "      <td>3941</td>\n",
       "    </tr>\n",
       "    <tr>\n",
       "      <th>45-54</th>\n",
       "      <td>1315</td>\n",
       "      <td>1703</td>\n",
       "    </tr>\n",
       "    <tr>\n",
       "      <th>55+</th>\n",
       "      <td>390</td>\n",
       "      <td>340</td>\n",
       "    </tr>\n",
       "    <tr>\n",
       "      <th rowspan=\"5\" valign=\"top\">1</th>\n",
       "      <th>18-24</th>\n",
       "      <td>226</td>\n",
       "      <td>468</td>\n",
       "    </tr>\n",
       "    <tr>\n",
       "      <th>25-34</th>\n",
       "      <td>978</td>\n",
       "      <td>1419</td>\n",
       "    </tr>\n",
       "    <tr>\n",
       "      <th>35-44</th>\n",
       "      <td>842</td>\n",
       "      <td>939</td>\n",
       "    </tr>\n",
       "    <tr>\n",
       "      <th>45-54</th>\n",
       "      <td>455</td>\n",
       "      <td>465</td>\n",
       "    </tr>\n",
       "    <tr>\n",
       "      <th>55+</th>\n",
       "      <td>118</td>\n",
       "      <td>117</td>\n",
       "    </tr>\n",
       "  </tbody>\n",
       "</table>\n",
       "</div>"
      ],
      "text/plain": [
       "sex                    1     2\n",
       "default AgeBracket            \n",
       "0       18-24        514  1356\n",
       "        25-34       3653  6065\n",
       "        35-44       2659  3941\n",
       "        45-54       1315  1703\n",
       "        55+          390   340\n",
       "1       18-24        226   468\n",
       "        25-34        978  1419\n",
       "        35-44        842   939\n",
       "        45-54        455   465\n",
       "        55+          118   117"
      ]
     },
     "execution_count": 31,
     "metadata": {},
     "output_type": "execute_result"
    }
   ],
   "source": [
    "# Customers who did and did not default by age group and gender\n",
    "table = pd.crosstab(index=[credit.default,credit.AgeBracket],\n",
    "                    columns=[credit.sex])\n",
    "table"
   ]
  },
  {
   "cell_type": "code",
   "execution_count": 32,
   "metadata": {
    "scrolled": false
   },
   "outputs": [
    {
     "data": {
      "text/html": [
       "<div>\n",
       "<style scoped>\n",
       "    .dataframe tbody tr th:only-of-type {\n",
       "        vertical-align: middle;\n",
       "    }\n",
       "\n",
       "    .dataframe tbody tr th {\n",
       "        vertical-align: top;\n",
       "    }\n",
       "\n",
       "    .dataframe thead tr th {\n",
       "        text-align: left;\n",
       "    }\n",
       "\n",
       "    .dataframe thead tr:last-of-type th {\n",
       "        text-align: right;\n",
       "    }\n",
       "</style>\n",
       "<table border=\"1\" class=\"dataframe\">\n",
       "  <thead>\n",
       "    <tr>\n",
       "      <th>sex</th>\n",
       "      <th colspan=\"5\" halign=\"left\">1</th>\n",
       "      <th colspan=\"5\" halign=\"left\">2</th>\n",
       "    </tr>\n",
       "    <tr>\n",
       "      <th>AgeBracket</th>\n",
       "      <th>18-24</th>\n",
       "      <th>25-34</th>\n",
       "      <th>35-44</th>\n",
       "      <th>45-54</th>\n",
       "      <th>55+</th>\n",
       "      <th>18-24</th>\n",
       "      <th>25-34</th>\n",
       "      <th>35-44</th>\n",
       "      <th>45-54</th>\n",
       "      <th>55+</th>\n",
       "    </tr>\n",
       "    <tr>\n",
       "      <th>default</th>\n",
       "      <th></th>\n",
       "      <th></th>\n",
       "      <th></th>\n",
       "      <th></th>\n",
       "      <th></th>\n",
       "      <th></th>\n",
       "      <th></th>\n",
       "      <th></th>\n",
       "      <th></th>\n",
       "      <th></th>\n",
       "    </tr>\n",
       "  </thead>\n",
       "  <tbody>\n",
       "    <tr>\n",
       "      <th>0</th>\n",
       "      <td>514</td>\n",
       "      <td>3653</td>\n",
       "      <td>2659</td>\n",
       "      <td>1315</td>\n",
       "      <td>390</td>\n",
       "      <td>1356</td>\n",
       "      <td>6065</td>\n",
       "      <td>3941</td>\n",
       "      <td>1703</td>\n",
       "      <td>340</td>\n",
       "    </tr>\n",
       "    <tr>\n",
       "      <th>1</th>\n",
       "      <td>226</td>\n",
       "      <td>978</td>\n",
       "      <td>842</td>\n",
       "      <td>455</td>\n",
       "      <td>118</td>\n",
       "      <td>468</td>\n",
       "      <td>1419</td>\n",
       "      <td>939</td>\n",
       "      <td>465</td>\n",
       "      <td>117</td>\n",
       "    </tr>\n",
       "  </tbody>\n",
       "</table>\n",
       "</div>"
      ],
      "text/plain": [
       "sex            1                            2                       \n",
       "AgeBracket 18-24 25-34 35-44 45-54  55+ 18-24 25-34 35-44 45-54  55+\n",
       "default                                                             \n",
       "0            514  3653  2659  1315  390  1356  6065  3941  1703  340\n",
       "1            226   978   842   455  118   468  1419   939   465  117"
      ]
     },
     "execution_count": 32,
     "metadata": {},
     "output_type": "execute_result"
    }
   ],
   "source": [
    "# Alternate table view\n",
    "table.unstack()"
   ]
  },
  {
   "cell_type": "code",
   "execution_count": 33,
   "metadata": {
    "scrolled": true
   },
   "outputs": [
    {
     "data": {
      "text/plain": [
       "<seaborn.axisgrid.FacetGrid at 0x26c293b16a0>"
      ]
     },
     "execution_count": 33,
     "metadata": {},
     "output_type": "execute_result"
    },
    {
     "data": {
      "image/png": "[encoded data removed]",
      "text/plain": [
       "<matplotlib.figure.Figure at 0x26c293cd710>"
      ]
     },
     "metadata": {},
     "output_type": "display_data"
    }
   ],
   "source": [
    "# Do the same as above, but split the customers into either default or not\n",
    "sns.factorplot('AgeBracket', data=credit, kind='count', hue='sex', \n",
    "               col='default', aspect=1.25, size=5)"
   ]
  },
  {
   "cell_type": "markdown",
   "metadata": {},
   "source": [
    "## Education Analysis"
   ]
  },
  {
   "cell_type": "code",
   "execution_count": 34,
   "metadata": {
    "scrolled": true
   },
   "outputs": [
    {
     "data": {
      "text/plain": [
       "education\n",
       "1     9622\n",
       "2    13270\n",
       "3     4626\n",
       "4      445\n",
       "Name: education, dtype: int64"
      ]
     },
     "execution_count": 34,
     "metadata": {},
     "output_type": "execute_result"
    }
   ],
   "source": [
    "# Number of customers in each education level\n",
    "#1 - Graduate School\n",
    "#2 - University\n",
    "#3 - High School\n",
    "#4 - Other\n",
    "credit.groupby('education').education.count()"
   ]
  },
  {
   "cell_type": "code",
   "execution_count": 35,
   "metadata": {
    "scrolled": false
   },
   "outputs": [
    {
     "data": {
      "text/plain": [
       "<seaborn.axisgrid.FacetGrid at 0x26c2992d588>"
      ]
     },
     "execution_count": 35,
     "metadata": {},
     "output_type": "execute_result"
    },
    {
     "data": {
      "image/png": "[encoded data removed]",
      "text/plain": [
       "<matplotlib.figure.Figure at 0x26c29488048>"
      ]
     },
     "metadata": {},
     "output_type": "display_data"
    }
   ],
   "source": [
    "#Plot the count of customers in each education level\n",
    "fg = sns.factorplot('education', data=credit, kind='count', aspect=2)\n",
    "fg.set_xlabels('Education Level')"
   ]
  },
  {
   "cell_type": "code",
   "execution_count": 36,
   "metadata": {},
   "outputs": [
    {
     "data": {
      "text/plain": [
       "education\n",
       "1    212626.273124\n",
       "2    145891.936699\n",
       "3    125276.195417\n",
       "4    179991.011236\n",
       "Name: limit, dtype: float64"
      ]
     },
     "execution_count": 36,
     "metadata": {},
     "output_type": "execute_result"
    }
   ],
   "source": [
    "# average limit amount by education level\n",
    "credit.groupby('education').limit.mean()"
   ]
  },
  {
   "cell_type": "code",
   "execution_count": 37,
   "metadata": {
    "scrolled": false
   },
   "outputs": [
    {
     "data": {
      "text/plain": [
       "education\n",
       "1    0.181771\n",
       "2    0.234062\n",
       "3    0.246217\n",
       "4    0.074157\n",
       "Name: default, dtype: float64"
      ]
     },
     "execution_count": 37,
     "metadata": {},
     "output_type": "execute_result"
    }
   ],
   "source": [
    "# % of defaults by education level\n",
    "credit.groupby('education').default.mean()"
   ]
  },
  {
   "cell_type": "code",
   "execution_count": 38,
   "metadata": {
    "scrolled": false
   },
   "outputs": [
    {
     "data": {
      "text/plain": [
       "sex  education\n",
       "1    1            3986\n",
       "     2            5116\n",
       "     3            1884\n",
       "     4             164\n",
       "2    1            5636\n",
       "     2            8154\n",
       "     3            2742\n",
       "     4             281\n",
       "Name: sex, dtype: int64"
      ]
     },
     "execution_count": 38,
     "metadata": {},
     "output_type": "execute_result"
    }
   ],
   "source": [
    "# Number of men and women by education level\n",
    "credit.groupby(['sex', 'education'])['sex'].count()"
   ]
  },
  {
   "cell_type": "code",
   "execution_count": 39,
   "metadata": {
    "scrolled": true
   },
   "outputs": [
    {
     "data": {
      "text/plain": [
       "sex  education\n",
       "1    1            0.194180\n",
       "     2            0.259382\n",
       "     3            0.267516\n",
       "     4            0.085366\n",
       "2    1            0.172995\n",
       "     2            0.218175\n",
       "     3            0.231583\n",
       "     4            0.067616\n",
       "Name: default, dtype: float64"
      ]
     },
     "execution_count": 39,
     "metadata": {},
     "output_type": "execute_result"
    }
   ],
   "source": [
    "# % of defaults by gender and education level\n",
    "credit.groupby(['sex', 'education'])['default'].mean()"
   ]
  },
  {
   "cell_type": "markdown",
   "metadata": {},
   "source": [
    "Top four categories to default by gender and education level are as follows:  \n",
    "Males High School   - 26.7%   \n",
    "Males University    - 25.9%  \n",
    "Females High School - 23.1%  \n",
    "Females University  - 21.8%  "
   ]
  },
  {
   "cell_type": "code",
   "execution_count": 40,
   "metadata": {
    "scrolled": true
   },
   "outputs": [
    {
     "data": {
      "text/plain": [
       "<seaborn.axisgrid.FacetGrid at 0x26c29b70d30>"
      ]
     },
     "execution_count": 40,
     "metadata": {},
     "output_type": "execute_result"
    },
    {
     "data": {
      "image/png": "[encoded data removed]",
      "text/plain": [
       "<matplotlib.figure.Figure at 0x26c29446908>"
      ]
     },
     "metadata": {},
     "output_type": "display_data"
    }
   ],
   "source": [
    "# Group by sex and education level\n",
    "g = sns.factorplot('education', data=credit, hue='sex', kind='count', aspect=1.75)\n",
    "g.set_xlabels('Education Level')"
   ]
  },
  {
   "cell_type": "markdown",
   "metadata": {},
   "source": [
    "Females outnumber males close to 3 to 2 across the board."
   ]
  },
  {
   "cell_type": "code",
   "execution_count": 41,
   "metadata": {
    "scrolled": false
   },
   "outputs": [
    {
     "data": {
      "text/html": [
       "<div>\n",
       "<style scoped>\n",
       "    .dataframe tbody tr th:only-of-type {\n",
       "        vertical-align: middle;\n",
       "    }\n",
       "\n",
       "    .dataframe tbody tr th {\n",
       "        vertical-align: top;\n",
       "    }\n",
       "\n",
       "    .dataframe thead th {\n",
       "        text-align: right;\n",
       "    }\n",
       "</style>\n",
       "<table border=\"1\" class=\"dataframe\">\n",
       "  <thead>\n",
       "    <tr style=\"text-align: right;\">\n",
       "      <th>education</th>\n",
       "      <th>1</th>\n",
       "      <th>2</th>\n",
       "      <th>3</th>\n",
       "      <th>4</th>\n",
       "      <th>All</th>\n",
       "    </tr>\n",
       "    <tr>\n",
       "      <th>sex</th>\n",
       "      <th></th>\n",
       "      <th></th>\n",
       "      <th></th>\n",
       "      <th></th>\n",
       "      <th></th>\n",
       "    </tr>\n",
       "  </thead>\n",
       "  <tbody>\n",
       "    <tr>\n",
       "      <th>1</th>\n",
       "      <td>774</td>\n",
       "      <td>1327</td>\n",
       "      <td>504</td>\n",
       "      <td>14</td>\n",
       "      <td>2619</td>\n",
       "    </tr>\n",
       "    <tr>\n",
       "      <th>2</th>\n",
       "      <td>975</td>\n",
       "      <td>1779</td>\n",
       "      <td>635</td>\n",
       "      <td>19</td>\n",
       "      <td>3408</td>\n",
       "    </tr>\n",
       "    <tr>\n",
       "      <th>All</th>\n",
       "      <td>1749</td>\n",
       "      <td>3106</td>\n",
       "      <td>1139</td>\n",
       "      <td>33</td>\n",
       "      <td>6027</td>\n",
       "    </tr>\n",
       "  </tbody>\n",
       "</table>\n",
       "</div>"
      ],
      "text/plain": [
       "education     1     2     3   4   All\n",
       "sex                                  \n",
       "1           774  1327   504  14  2619\n",
       "2           975  1779   635  19  3408\n",
       "All        1749  3106  1139  33  6027"
      ]
     },
     "execution_count": 41,
     "metadata": {},
     "output_type": "execute_result"
    }
   ],
   "source": [
    "# Number of customers who defaulted in each education level by sex.\n",
    "credit.pivot_table('default', 'sex', 'education', aggfunc=np.sum, margins=True)"
   ]
  },
  {
   "cell_type": "code",
   "execution_count": 42,
   "metadata": {
    "scrolled": true
   },
   "outputs": [
    {
     "data": {
      "text/html": [
       "<div>\n",
       "<style scoped>\n",
       "    .dataframe tbody tr th:only-of-type {\n",
       "        vertical-align: middle;\n",
       "    }\n",
       "\n",
       "    .dataframe tbody tr th {\n",
       "        vertical-align: top;\n",
       "    }\n",
       "\n",
       "    .dataframe thead th {\n",
       "        text-align: right;\n",
       "    }\n",
       "</style>\n",
       "<table border=\"1\" class=\"dataframe\">\n",
       "  <thead>\n",
       "    <tr style=\"text-align: right;\">\n",
       "      <th>education</th>\n",
       "      <th>1</th>\n",
       "      <th>2</th>\n",
       "      <th>3</th>\n",
       "      <th>4</th>\n",
       "      <th>All</th>\n",
       "    </tr>\n",
       "    <tr>\n",
       "      <th>sex</th>\n",
       "      <th></th>\n",
       "      <th></th>\n",
       "      <th></th>\n",
       "      <th></th>\n",
       "      <th></th>\n",
       "    </tr>\n",
       "  </thead>\n",
       "  <tbody>\n",
       "    <tr>\n",
       "      <th>1</th>\n",
       "      <td>3212</td>\n",
       "      <td>3789</td>\n",
       "      <td>1380</td>\n",
       "      <td>150</td>\n",
       "      <td>8531</td>\n",
       "    </tr>\n",
       "    <tr>\n",
       "      <th>2</th>\n",
       "      <td>4661</td>\n",
       "      <td>6375</td>\n",
       "      <td>2107</td>\n",
       "      <td>262</td>\n",
       "      <td>13405</td>\n",
       "    </tr>\n",
       "    <tr>\n",
       "      <th>All</th>\n",
       "      <td>7873</td>\n",
       "      <td>10164</td>\n",
       "      <td>3487</td>\n",
       "      <td>412</td>\n",
       "      <td>21936</td>\n",
       "    </tr>\n",
       "  </tbody>\n",
       "</table>\n",
       "</div>"
      ],
      "text/plain": [
       "education     1      2     3    4    All\n",
       "sex                                     \n",
       "1          3212   3789  1380  150   8531\n",
       "2          4661   6375  2107  262  13405\n",
       "All        7873  10164  3487  412  21936"
      ]
     },
     "execution_count": 42,
     "metadata": {},
     "output_type": "execute_result"
    }
   ],
   "source": [
    "# Number of customers who did NOT default in each education level by sex.\n",
    "non_def.pivot_table('default', 'sex', 'education', aggfunc=len, margins=True)"
   ]
  },
  {
   "cell_type": "code",
   "execution_count": 43,
   "metadata": {
    "scrolled": false
   },
   "outputs": [
    {
     "data": {
      "text/html": [
       "<div>\n",
       "<style scoped>\n",
       "    .dataframe tbody tr th:only-of-type {\n",
       "        vertical-align: middle;\n",
       "    }\n",
       "\n",
       "    .dataframe tbody tr th {\n",
       "        vertical-align: top;\n",
       "    }\n",
       "\n",
       "    .dataframe thead th {\n",
       "        text-align: right;\n",
       "    }\n",
       "</style>\n",
       "<table border=\"1\" class=\"dataframe\">\n",
       "  <thead>\n",
       "    <tr style=\"text-align: right;\">\n",
       "      <th></th>\n",
       "      <th>sex</th>\n",
       "      <th>1</th>\n",
       "      <th>2</th>\n",
       "    </tr>\n",
       "    <tr>\n",
       "      <th>default</th>\n",
       "      <th>education</th>\n",
       "      <th></th>\n",
       "      <th></th>\n",
       "    </tr>\n",
       "  </thead>\n",
       "  <tbody>\n",
       "    <tr>\n",
       "      <th rowspan=\"4\" valign=\"top\">0</th>\n",
       "      <th>1</th>\n",
       "      <td>3212</td>\n",
       "      <td>4661</td>\n",
       "    </tr>\n",
       "    <tr>\n",
       "      <th>2</th>\n",
       "      <td>3789</td>\n",
       "      <td>6375</td>\n",
       "    </tr>\n",
       "    <tr>\n",
       "      <th>3</th>\n",
       "      <td>1380</td>\n",
       "      <td>2107</td>\n",
       "    </tr>\n",
       "    <tr>\n",
       "      <th>4</th>\n",
       "      <td>150</td>\n",
       "      <td>262</td>\n",
       "    </tr>\n",
       "    <tr>\n",
       "      <th rowspan=\"4\" valign=\"top\">1</th>\n",
       "      <th>1</th>\n",
       "      <td>774</td>\n",
       "      <td>975</td>\n",
       "    </tr>\n",
       "    <tr>\n",
       "      <th>2</th>\n",
       "      <td>1327</td>\n",
       "      <td>1779</td>\n",
       "    </tr>\n",
       "    <tr>\n",
       "      <th>3</th>\n",
       "      <td>504</td>\n",
       "      <td>635</td>\n",
       "    </tr>\n",
       "    <tr>\n",
       "      <th>4</th>\n",
       "      <td>14</td>\n",
       "      <td>19</td>\n",
       "    </tr>\n",
       "  </tbody>\n",
       "</table>\n",
       "</div>"
      ],
      "text/plain": [
       "sex                   1     2\n",
       "default education            \n",
       "0       1          3212  4661\n",
       "        2          3789  6375\n",
       "        3          1380  2107\n",
       "        4           150   262\n",
       "1       1           774   975\n",
       "        2          1327  1779\n",
       "        3           504   635\n",
       "        4            14    19"
      ]
     },
     "execution_count": 43,
     "metadata": {},
     "output_type": "execute_result"
    }
   ],
   "source": [
    "# Customers who did and did not default by education level and sex\n",
    "table = pd.crosstab(index=[credit.default,credit.education],\n",
    "                    columns=[credit.sex])\n",
    "table"
   ]
  },
  {
   "cell_type": "code",
   "execution_count": 44,
   "metadata": {
    "scrolled": false
   },
   "outputs": [
    {
     "data": {
      "text/html": [
       "<div>\n",
       "<style scoped>\n",
       "    .dataframe tbody tr th:only-of-type {\n",
       "        vertical-align: middle;\n",
       "    }\n",
       "\n",
       "    .dataframe tbody tr th {\n",
       "        vertical-align: top;\n",
       "    }\n",
       "\n",
       "    .dataframe thead tr th {\n",
       "        text-align: left;\n",
       "    }\n",
       "\n",
       "    .dataframe thead tr:last-of-type th {\n",
       "        text-align: right;\n",
       "    }\n",
       "</style>\n",
       "<table border=\"1\" class=\"dataframe\">\n",
       "  <thead>\n",
       "    <tr>\n",
       "      <th>sex</th>\n",
       "      <th colspan=\"4\" halign=\"left\">1</th>\n",
       "      <th colspan=\"4\" halign=\"left\">2</th>\n",
       "    </tr>\n",
       "    <tr>\n",
       "      <th>education</th>\n",
       "      <th>1</th>\n",
       "      <th>2</th>\n",
       "      <th>3</th>\n",
       "      <th>4</th>\n",
       "      <th>1</th>\n",
       "      <th>2</th>\n",
       "      <th>3</th>\n",
       "      <th>4</th>\n",
       "    </tr>\n",
       "    <tr>\n",
       "      <th>default</th>\n",
       "      <th></th>\n",
       "      <th></th>\n",
       "      <th></th>\n",
       "      <th></th>\n",
       "      <th></th>\n",
       "      <th></th>\n",
       "      <th></th>\n",
       "      <th></th>\n",
       "    </tr>\n",
       "  </thead>\n",
       "  <tbody>\n",
       "    <tr>\n",
       "      <th>0</th>\n",
       "      <td>3212</td>\n",
       "      <td>3789</td>\n",
       "      <td>1380</td>\n",
       "      <td>150</td>\n",
       "      <td>4661</td>\n",
       "      <td>6375</td>\n",
       "      <td>2107</td>\n",
       "      <td>262</td>\n",
       "    </tr>\n",
       "    <tr>\n",
       "      <th>1</th>\n",
       "      <td>774</td>\n",
       "      <td>1327</td>\n",
       "      <td>504</td>\n",
       "      <td>14</td>\n",
       "      <td>975</td>\n",
       "      <td>1779</td>\n",
       "      <td>635</td>\n",
       "      <td>19</td>\n",
       "    </tr>\n",
       "  </tbody>\n",
       "</table>\n",
       "</div>"
      ],
      "text/plain": [
       "sex           1                      2                 \n",
       "education     1     2     3    4     1     2     3    4\n",
       "default                                                \n",
       "0          3212  3789  1380  150  4661  6375  2107  262\n",
       "1           774  1327   504   14   975  1779   635   19"
      ]
     },
     "execution_count": 44,
     "metadata": {},
     "output_type": "execute_result"
    }
   ],
   "source": [
    "# Alternate table view\n",
    "table.unstack()"
   ]
  },
  {
   "cell_type": "code",
   "execution_count": 45,
   "metadata": {},
   "outputs": [
    {
     "data": {
      "text/plain": [
       "<seaborn.axisgrid.FacetGrid at 0x26c29b82be0>"
      ]
     },
     "execution_count": 45,
     "metadata": {},
     "output_type": "execute_result"
    },
    {
     "data": {
      "image/png": "[encoded data removed]",
      "text/plain": [
       "<matplotlib.figure.Figure at 0x26c29be90f0>"
      ]
     },
     "metadata": {},
     "output_type": "display_data"
    }
   ],
   "source": [
    "# Do the same as above, but split the customers into either default or not\n",
    "sns.factorplot('education', data=credit, kind='count', hue='sex', \n",
    "               col='default', aspect=1.25, size=5)"
   ]
  },
  {
   "cell_type": "code",
   "execution_count": 46,
   "metadata": {
    "scrolled": true
   },
   "outputs": [
    {
     "data": {
      "text/html": [
       "<div>\n",
       "<style scoped>\n",
       "    .dataframe tbody tr th:only-of-type {\n",
       "        vertical-align: middle;\n",
       "    }\n",
       "\n",
       "    .dataframe tbody tr th {\n",
       "        vertical-align: top;\n",
       "    }\n",
       "\n",
       "    .dataframe thead tr th {\n",
       "        text-align: left;\n",
       "    }\n",
       "\n",
       "    .dataframe thead tr:last-of-type th {\n",
       "        text-align: right;\n",
       "    }\n",
       "</style>\n",
       "<table border=\"1\" class=\"dataframe\">\n",
       "  <thead>\n",
       "    <tr>\n",
       "      <th></th>\n",
       "      <th>sex</th>\n",
       "      <th colspan=\"5\" halign=\"left\">1</th>\n",
       "      <th colspan=\"5\" halign=\"left\">2</th>\n",
       "    </tr>\n",
       "    <tr>\n",
       "      <th></th>\n",
       "      <th>AgeBracket</th>\n",
       "      <th>18-24</th>\n",
       "      <th>25-34</th>\n",
       "      <th>35-44</th>\n",
       "      <th>45-54</th>\n",
       "      <th>55+</th>\n",
       "      <th>18-24</th>\n",
       "      <th>25-34</th>\n",
       "      <th>35-44</th>\n",
       "      <th>45-54</th>\n",
       "      <th>55+</th>\n",
       "    </tr>\n",
       "    <tr>\n",
       "      <th>default</th>\n",
       "      <th>education</th>\n",
       "      <th></th>\n",
       "      <th></th>\n",
       "      <th></th>\n",
       "      <th></th>\n",
       "      <th></th>\n",
       "      <th></th>\n",
       "      <th></th>\n",
       "      <th></th>\n",
       "      <th></th>\n",
       "      <th></th>\n",
       "    </tr>\n",
       "  </thead>\n",
       "  <tbody>\n",
       "    <tr>\n",
       "      <th rowspan=\"4\" valign=\"top\">0</th>\n",
       "      <th>1</th>\n",
       "      <td>116</td>\n",
       "      <td>1589</td>\n",
       "      <td>984</td>\n",
       "      <td>403</td>\n",
       "      <td>120</td>\n",
       "      <td>400</td>\n",
       "      <td>2637</td>\n",
       "      <td>1235</td>\n",
       "      <td>334</td>\n",
       "      <td>55</td>\n",
       "    </tr>\n",
       "    <tr>\n",
       "      <th>2</th>\n",
       "      <td>314</td>\n",
       "      <td>1648</td>\n",
       "      <td>1189</td>\n",
       "      <td>515</td>\n",
       "      <td>123</td>\n",
       "      <td>797</td>\n",
       "      <td>2772</td>\n",
       "      <td>1948</td>\n",
       "      <td>757</td>\n",
       "      <td>101</td>\n",
       "    </tr>\n",
       "    <tr>\n",
       "      <th>3</th>\n",
       "      <td>72</td>\n",
       "      <td>361</td>\n",
       "      <td>438</td>\n",
       "      <td>367</td>\n",
       "      <td>142</td>\n",
       "      <td>136</td>\n",
       "      <td>538</td>\n",
       "      <td>689</td>\n",
       "      <td>565</td>\n",
       "      <td>179</td>\n",
       "    </tr>\n",
       "    <tr>\n",
       "      <th>4</th>\n",
       "      <td>12</td>\n",
       "      <td>55</td>\n",
       "      <td>48</td>\n",
       "      <td>30</td>\n",
       "      <td>5</td>\n",
       "      <td>23</td>\n",
       "      <td>118</td>\n",
       "      <td>69</td>\n",
       "      <td>47</td>\n",
       "      <td>5</td>\n",
       "    </tr>\n",
       "    <tr>\n",
       "      <th rowspan=\"4\" valign=\"top\">1</th>\n",
       "      <th>1</th>\n",
       "      <td>46</td>\n",
       "      <td>324</td>\n",
       "      <td>260</td>\n",
       "      <td>111</td>\n",
       "      <td>33</td>\n",
       "      <td>126</td>\n",
       "      <td>518</td>\n",
       "      <td>242</td>\n",
       "      <td>70</td>\n",
       "      <td>19</td>\n",
       "    </tr>\n",
       "    <tr>\n",
       "      <th>2</th>\n",
       "      <td>141</td>\n",
       "      <td>508</td>\n",
       "      <td>431</td>\n",
       "      <td>204</td>\n",
       "      <td>43</td>\n",
       "      <td>286</td>\n",
       "      <td>752</td>\n",
       "      <td>480</td>\n",
       "      <td>216</td>\n",
       "      <td>45</td>\n",
       "    </tr>\n",
       "    <tr>\n",
       "      <th>3</th>\n",
       "      <td>39</td>\n",
       "      <td>143</td>\n",
       "      <td>146</td>\n",
       "      <td>135</td>\n",
       "      <td>41</td>\n",
       "      <td>53</td>\n",
       "      <td>143</td>\n",
       "      <td>210</td>\n",
       "      <td>176</td>\n",
       "      <td>53</td>\n",
       "    </tr>\n",
       "    <tr>\n",
       "      <th>4</th>\n",
       "      <td>0</td>\n",
       "      <td>3</td>\n",
       "      <td>5</td>\n",
       "      <td>5</td>\n",
       "      <td>1</td>\n",
       "      <td>3</td>\n",
       "      <td>6</td>\n",
       "      <td>7</td>\n",
       "      <td>3</td>\n",
       "      <td>0</td>\n",
       "    </tr>\n",
       "  </tbody>\n",
       "</table>\n",
       "</div>"
      ],
      "text/plain": [
       "sex                   1                            2                       \n",
       "AgeBracket        18-24 25-34 35-44 45-54  55+ 18-24 25-34 35-44 45-54  55+\n",
       "default education                                                          \n",
       "0       1           116  1589   984   403  120   400  2637  1235   334   55\n",
       "        2           314  1648  1189   515  123   797  2772  1948   757  101\n",
       "        3            72   361   438   367  142   136   538   689   565  179\n",
       "        4            12    55    48    30    5    23   118    69    47    5\n",
       "1       1            46   324   260   111   33   126   518   242    70   19\n",
       "        2           141   508   431   204   43   286   752   480   216   45\n",
       "        3            39   143   146   135   41    53   143   210   176   53\n",
       "        4             0     3     5     5    1     3     6     7     3    0"
      ]
     },
     "execution_count": 46,
     "metadata": {},
     "output_type": "execute_result"
    }
   ],
   "source": [
    "# Customers who did and did not default by age group,sex, and education level\n",
    "table = pd.crosstab(index=[credit.default,credit.education],\n",
    "                    columns=[credit.sex,credit.AgeBracket])\n",
    "table"
   ]
  },
  {
   "cell_type": "code",
   "execution_count": 47,
   "metadata": {
    "scrolled": false
   },
   "outputs": [
    {
     "data": {
      "text/html": [
       "<div>\n",
       "<style scoped>\n",
       "    .dataframe tbody tr th:only-of-type {\n",
       "        vertical-align: middle;\n",
       "    }\n",
       "\n",
       "    .dataframe tbody tr th {\n",
       "        vertical-align: top;\n",
       "    }\n",
       "\n",
       "    .dataframe thead tr th {\n",
       "        text-align: left;\n",
       "    }\n",
       "\n",
       "    .dataframe thead tr:last-of-type th {\n",
       "        text-align: right;\n",
       "    }\n",
       "</style>\n",
       "<table border=\"1\" class=\"dataframe\">\n",
       "  <thead>\n",
       "    <tr>\n",
       "      <th>sex</th>\n",
       "      <th colspan=\"10\" halign=\"left\">1</th>\n",
       "      <th>...</th>\n",
       "      <th colspan=\"10\" halign=\"left\">2</th>\n",
       "    </tr>\n",
       "    <tr>\n",
       "      <th>AgeBracket</th>\n",
       "      <th colspan=\"4\" halign=\"left\">18-24</th>\n",
       "      <th colspan=\"4\" halign=\"left\">25-34</th>\n",
       "      <th colspan=\"2\" halign=\"left\">35-44</th>\n",
       "      <th>...</th>\n",
       "      <th colspan=\"2\" halign=\"left\">35-44</th>\n",
       "      <th colspan=\"4\" halign=\"left\">45-54</th>\n",
       "      <th colspan=\"4\" halign=\"left\">55+</th>\n",
       "    </tr>\n",
       "    <tr>\n",
       "      <th>education</th>\n",
       "      <th>1</th>\n",
       "      <th>2</th>\n",
       "      <th>3</th>\n",
       "      <th>4</th>\n",
       "      <th>1</th>\n",
       "      <th>2</th>\n",
       "      <th>3</th>\n",
       "      <th>4</th>\n",
       "      <th>1</th>\n",
       "      <th>2</th>\n",
       "      <th>...</th>\n",
       "      <th>3</th>\n",
       "      <th>4</th>\n",
       "      <th>1</th>\n",
       "      <th>2</th>\n",
       "      <th>3</th>\n",
       "      <th>4</th>\n",
       "      <th>1</th>\n",
       "      <th>2</th>\n",
       "      <th>3</th>\n",
       "      <th>4</th>\n",
       "    </tr>\n",
       "    <tr>\n",
       "      <th>default</th>\n",
       "      <th></th>\n",
       "      <th></th>\n",
       "      <th></th>\n",
       "      <th></th>\n",
       "      <th></th>\n",
       "      <th></th>\n",
       "      <th></th>\n",
       "      <th></th>\n",
       "      <th></th>\n",
       "      <th></th>\n",
       "      <th></th>\n",
       "      <th></th>\n",
       "      <th></th>\n",
       "      <th></th>\n",
       "      <th></th>\n",
       "      <th></th>\n",
       "      <th></th>\n",
       "      <th></th>\n",
       "      <th></th>\n",
       "      <th></th>\n",
       "      <th></th>\n",
       "    </tr>\n",
       "  </thead>\n",
       "  <tbody>\n",
       "    <tr>\n",
       "      <th>0</th>\n",
       "      <td>116</td>\n",
       "      <td>314</td>\n",
       "      <td>72</td>\n",
       "      <td>12</td>\n",
       "      <td>1589</td>\n",
       "      <td>1648</td>\n",
       "      <td>361</td>\n",
       "      <td>55</td>\n",
       "      <td>984</td>\n",
       "      <td>1189</td>\n",
       "      <td>...</td>\n",
       "      <td>689</td>\n",
       "      <td>69</td>\n",
       "      <td>334</td>\n",
       "      <td>757</td>\n",
       "      <td>565</td>\n",
       "      <td>47</td>\n",
       "      <td>55</td>\n",
       "      <td>101</td>\n",
       "      <td>179</td>\n",
       "      <td>5</td>\n",
       "    </tr>\n",
       "    <tr>\n",
       "      <th>1</th>\n",
       "      <td>46</td>\n",
       "      <td>141</td>\n",
       "      <td>39</td>\n",
       "      <td>0</td>\n",
       "      <td>324</td>\n",
       "      <td>508</td>\n",
       "      <td>143</td>\n",
       "      <td>3</td>\n",
       "      <td>260</td>\n",
       "      <td>431</td>\n",
       "      <td>...</td>\n",
       "      <td>210</td>\n",
       "      <td>7</td>\n",
       "      <td>70</td>\n",
       "      <td>216</td>\n",
       "      <td>176</td>\n",
       "      <td>3</td>\n",
       "      <td>19</td>\n",
       "      <td>45</td>\n",
       "      <td>53</td>\n",
       "      <td>0</td>\n",
       "    </tr>\n",
       "  </tbody>\n",
       "</table>\n",
       "<p>2 rows × 40 columns</p>\n",
       "</div>"
      ],
      "text/plain": [
       "sex            1                                               ...     2      \\\n",
       "AgeBracket 18-24              25-34                35-44       ... 35-44       \n",
       "education      1    2   3   4     1     2    3   4     1     2 ...     3   4   \n",
       "default                                                        ...             \n",
       "0            116  314  72  12  1589  1648  361  55   984  1189 ...   689  69   \n",
       "1             46  141  39   0   324   508  143   3   260   431 ...   210   7   \n",
       "\n",
       "sex                                              \n",
       "AgeBracket 45-54               55+               \n",
       "education      1    2    3   4   1    2    3  4  \n",
       "default                                          \n",
       "0            334  757  565  47  55  101  179  5  \n",
       "1             70  216  176   3  19   45   53  0  \n",
       "\n",
       "[2 rows x 40 columns]"
      ]
     },
     "execution_count": 47,
     "metadata": {},
     "output_type": "execute_result"
    }
   ],
   "source": [
    "# Alternate table view\n",
    "table.unstack()"
   ]
  },
  {
   "cell_type": "markdown",
   "metadata": {},
   "source": [
    "## Marriage Analysis"
   ]
  },
  {
   "cell_type": "code",
   "execution_count": 48,
   "metadata": {},
   "outputs": [
    {
     "data": {
      "text/plain": [
       "marriage\n",
       "0       52\n",
       "1    12680\n",
       "2    14930\n",
       "3      301\n",
       "Name: marriage, dtype: int64"
      ]
     },
     "execution_count": 48,
     "metadata": {},
     "output_type": "execute_result"
    }
   ],
   "source": [
    "# Number of customers by Marital Status\n",
    "# 1 - Single\n",
    "# 2 - Married\n",
    "# 3 - Divorced\n",
    "# 0 - Other\n",
    "credit.groupby('marriage').marriage.count()"
   ]
  },
  {
   "cell_type": "code",
   "execution_count": 49,
   "metadata": {
    "scrolled": false
   },
   "outputs": [
    {
     "data": {
      "text/plain": [
       "<seaborn.axisgrid.FacetGrid at 0x26c29bbf208>"
      ]
     },
     "execution_count": 49,
     "metadata": {},
     "output_type": "execute_result"
    },
    {
     "data": {
      "image/png": "[encoded data removed]",
      "text/plain": [
       "<matplotlib.figure.Figure at 0x26c2b96e940>"
      ]
     },
     "metadata": {},
     "output_type": "display_data"
    }
   ],
   "source": [
    "#Plot the count of customers by marital status\n",
    "fg = sns.factorplot('marriage', data=credit, kind='count', aspect=2)\n",
    "fg.set_xlabels('Marital Status')"
   ]
  },
  {
   "cell_type": "code",
   "execution_count": 50,
   "metadata": {},
   "outputs": [
    {
     "data": {
      "text/plain": [
       "marriage\n",
       "0    130384.615385\n",
       "1    180243.059937\n",
       "2    155437.888814\n",
       "3     94850.498339\n",
       "Name: limit, dtype: float64"
      ]
     },
     "execution_count": 50,
     "metadata": {},
     "output_type": "execute_result"
    }
   ],
   "source": [
    "# average limit amount by marital status\n",
    "credit.groupby('marriage').limit.mean()"
   ]
  },
  {
   "cell_type": "code",
   "execution_count": 51,
   "metadata": {
    "scrolled": false
   },
   "outputs": [
    {
     "data": {
      "text/plain": [
       "marriage\n",
       "0    0.096154\n",
       "1    0.228864\n",
       "2    0.203818\n",
       "3    0.255814\n",
       "Name: default, dtype: float64"
      ]
     },
     "execution_count": 51,
     "metadata": {},
     "output_type": "execute_result"
    }
   ],
   "source": [
    "# % of defaults by marital status\n",
    "credit.groupby('marriage').default.mean()"
   ]
  },
  {
   "cell_type": "code",
   "execution_count": 52,
   "metadata": {
    "scrolled": false
   },
   "outputs": [
    {
     "data": {
      "text/plain": [
       "sex  marriage\n",
       "1    0             14\n",
       "     1           4853\n",
       "     2           6158\n",
       "     3            125\n",
       "2    0             38\n",
       "     1           7827\n",
       "     2           8772\n",
       "     3            176\n",
       "Name: sex, dtype: int64"
      ]
     },
     "execution_count": 52,
     "metadata": {},
     "output_type": "execute_result"
    }
   ],
   "source": [
    "# Number of men and women by marital status\n",
    "credit.groupby(['sex', 'marriage'])['sex'].count()"
   ]
  },
  {
   "cell_type": "code",
   "execution_count": 53,
   "metadata": {
    "scrolled": true
   },
   "outputs": [
    {
     "data": {
      "text/plain": [
       "sex  marriage\n",
       "1    0           0.142857\n",
       "     1           0.250155\n",
       "     2           0.221988\n",
       "     3           0.288000\n",
       "2    0           0.078947\n",
       "     1           0.215664\n",
       "     2           0.191062\n",
       "     3           0.232955\n",
       "Name: default, dtype: float64"
      ]
     },
     "execution_count": 53,
     "metadata": {},
     "output_type": "execute_result"
    }
   ],
   "source": [
    "# % of defaults by gender and marital status\n",
    "credit.groupby(['sex', 'marriage'])['default'].mean()"
   ]
  },
  {
   "cell_type": "markdown",
   "metadata": {},
   "source": [
    "Top four categories by gender and marital status to defualt are as follows:  \n",
    "Males divorced - 28.8%  \n",
    "Males single - 25%  \n",
    "Females divorced - 23.2%  \n",
    "Males married - 22.1%"
   ]
  },
  {
   "cell_type": "code",
   "execution_count": 54,
   "metadata": {
    "scrolled": true
   },
   "outputs": [
    {
     "data": {
      "text/plain": [
       "<seaborn.axisgrid.FacetGrid at 0x26c299a0a90>"
      ]
     },
     "execution_count": 54,
     "metadata": {},
     "output_type": "execute_result"
    },
    {
     "data": {
      "image/png": "[encoded data removed]",
      "text/plain": [
       "<matplotlib.figure.Figure at 0x26c29e2feb8>"
      ]
     },
     "metadata": {},
     "output_type": "display_data"
    }
   ],
   "source": [
    "# Group by sex and marital status\n",
    "g = sns.factorplot('marriage', data=credit, hue='sex', kind='count', aspect=1.75)\n",
    "g.set_xlabels('Marital Status')"
   ]
  },
  {
   "cell_type": "code",
   "execution_count": 55,
   "metadata": {
    "scrolled": false
   },
   "outputs": [
    {
     "data": {
      "text/html": [
       "<div>\n",
       "<style scoped>\n",
       "    .dataframe tbody tr th:only-of-type {\n",
       "        vertical-align: middle;\n",
       "    }\n",
       "\n",
       "    .dataframe tbody tr th {\n",
       "        vertical-align: top;\n",
       "    }\n",
       "\n",
       "    .dataframe thead th {\n",
       "        text-align: right;\n",
       "    }\n",
       "</style>\n",
       "<table border=\"1\" class=\"dataframe\">\n",
       "  <thead>\n",
       "    <tr style=\"text-align: right;\">\n",
       "      <th>marriage</th>\n",
       "      <th>0</th>\n",
       "      <th>1</th>\n",
       "      <th>2</th>\n",
       "      <th>3</th>\n",
       "      <th>All</th>\n",
       "    </tr>\n",
       "    <tr>\n",
       "      <th>sex</th>\n",
       "      <th></th>\n",
       "      <th></th>\n",
       "      <th></th>\n",
       "      <th></th>\n",
       "      <th></th>\n",
       "    </tr>\n",
       "  </thead>\n",
       "  <tbody>\n",
       "    <tr>\n",
       "      <th>1</th>\n",
       "      <td>2</td>\n",
       "      <td>1214</td>\n",
       "      <td>1367</td>\n",
       "      <td>36</td>\n",
       "      <td>2619</td>\n",
       "    </tr>\n",
       "    <tr>\n",
       "      <th>2</th>\n",
       "      <td>3</td>\n",
       "      <td>1688</td>\n",
       "      <td>1676</td>\n",
       "      <td>41</td>\n",
       "      <td>3408</td>\n",
       "    </tr>\n",
       "    <tr>\n",
       "      <th>All</th>\n",
       "      <td>5</td>\n",
       "      <td>2902</td>\n",
       "      <td>3043</td>\n",
       "      <td>77</td>\n",
       "      <td>6027</td>\n",
       "    </tr>\n",
       "  </tbody>\n",
       "</table>\n",
       "</div>"
      ],
      "text/plain": [
       "marriage  0     1     2   3   All\n",
       "sex                              \n",
       "1         2  1214  1367  36  2619\n",
       "2         3  1688  1676  41  3408\n",
       "All       5  2902  3043  77  6027"
      ]
     },
     "execution_count": 55,
     "metadata": {},
     "output_type": "execute_result"
    }
   ],
   "source": [
    "# Number of customers who defaulted in each marital status by sex.\n",
    "credit.pivot_table('default', 'sex', 'marriage', aggfunc=np.sum, margins=True)"
   ]
  },
  {
   "cell_type": "code",
   "execution_count": 56,
   "metadata": {
    "scrolled": true
   },
   "outputs": [
    {
     "data": {
      "text/html": [
       "<div>\n",
       "<style scoped>\n",
       "    .dataframe tbody tr th:only-of-type {\n",
       "        vertical-align: middle;\n",
       "    }\n",
       "\n",
       "    .dataframe tbody tr th {\n",
       "        vertical-align: top;\n",
       "    }\n",
       "\n",
       "    .dataframe thead th {\n",
       "        text-align: right;\n",
       "    }\n",
       "</style>\n",
       "<table border=\"1\" class=\"dataframe\">\n",
       "  <thead>\n",
       "    <tr style=\"text-align: right;\">\n",
       "      <th>marriage</th>\n",
       "      <th>0</th>\n",
       "      <th>1</th>\n",
       "      <th>2</th>\n",
       "      <th>3</th>\n",
       "      <th>All</th>\n",
       "    </tr>\n",
       "    <tr>\n",
       "      <th>sex</th>\n",
       "      <th></th>\n",
       "      <th></th>\n",
       "      <th></th>\n",
       "      <th></th>\n",
       "      <th></th>\n",
       "    </tr>\n",
       "  </thead>\n",
       "  <tbody>\n",
       "    <tr>\n",
       "      <th>1</th>\n",
       "      <td>12</td>\n",
       "      <td>3639</td>\n",
       "      <td>4791</td>\n",
       "      <td>89</td>\n",
       "      <td>8531</td>\n",
       "    </tr>\n",
       "    <tr>\n",
       "      <th>2</th>\n",
       "      <td>35</td>\n",
       "      <td>6139</td>\n",
       "      <td>7096</td>\n",
       "      <td>135</td>\n",
       "      <td>13405</td>\n",
       "    </tr>\n",
       "    <tr>\n",
       "      <th>All</th>\n",
       "      <td>47</td>\n",
       "      <td>9778</td>\n",
       "      <td>11887</td>\n",
       "      <td>224</td>\n",
       "      <td>21936</td>\n",
       "    </tr>\n",
       "  </tbody>\n",
       "</table>\n",
       "</div>"
      ],
      "text/plain": [
       "marriage   0     1      2    3    All\n",
       "sex                                  \n",
       "1         12  3639   4791   89   8531\n",
       "2         35  6139   7096  135  13405\n",
       "All       47  9778  11887  224  21936"
      ]
     },
     "execution_count": 56,
     "metadata": {},
     "output_type": "execute_result"
    }
   ],
   "source": [
    "# Number of customers who did NOT default in each marital status by sex.\n",
    "non_def.pivot_table('default', 'sex', 'marriage', aggfunc=len, margins=True)"
   ]
  },
  {
   "cell_type": "code",
   "execution_count": 57,
   "metadata": {},
   "outputs": [
    {
     "data": {
      "text/html": [
       "<div>\n",
       "<style scoped>\n",
       "    .dataframe tbody tr th:only-of-type {\n",
       "        vertical-align: middle;\n",
       "    }\n",
       "\n",
       "    .dataframe tbody tr th {\n",
       "        vertical-align: top;\n",
       "    }\n",
       "\n",
       "    .dataframe thead th {\n",
       "        text-align: right;\n",
       "    }\n",
       "</style>\n",
       "<table border=\"1\" class=\"dataframe\">\n",
       "  <thead>\n",
       "    <tr style=\"text-align: right;\">\n",
       "      <th></th>\n",
       "      <th>sex</th>\n",
       "      <th>1</th>\n",
       "      <th>2</th>\n",
       "    </tr>\n",
       "    <tr>\n",
       "      <th>default</th>\n",
       "      <th>marriage</th>\n",
       "      <th></th>\n",
       "      <th></th>\n",
       "    </tr>\n",
       "  </thead>\n",
       "  <tbody>\n",
       "    <tr>\n",
       "      <th rowspan=\"4\" valign=\"top\">0</th>\n",
       "      <th>0</th>\n",
       "      <td>12</td>\n",
       "      <td>35</td>\n",
       "    </tr>\n",
       "    <tr>\n",
       "      <th>1</th>\n",
       "      <td>3639</td>\n",
       "      <td>6139</td>\n",
       "    </tr>\n",
       "    <tr>\n",
       "      <th>2</th>\n",
       "      <td>4791</td>\n",
       "      <td>7096</td>\n",
       "    </tr>\n",
       "    <tr>\n",
       "      <th>3</th>\n",
       "      <td>89</td>\n",
       "      <td>135</td>\n",
       "    </tr>\n",
       "    <tr>\n",
       "      <th rowspan=\"4\" valign=\"top\">1</th>\n",
       "      <th>0</th>\n",
       "      <td>2</td>\n",
       "      <td>3</td>\n",
       "    </tr>\n",
       "    <tr>\n",
       "      <th>1</th>\n",
       "      <td>1214</td>\n",
       "      <td>1688</td>\n",
       "    </tr>\n",
       "    <tr>\n",
       "      <th>2</th>\n",
       "      <td>1367</td>\n",
       "      <td>1676</td>\n",
       "    </tr>\n",
       "    <tr>\n",
       "      <th>3</th>\n",
       "      <td>36</td>\n",
       "      <td>41</td>\n",
       "    </tr>\n",
       "  </tbody>\n",
       "</table>\n",
       "</div>"
      ],
      "text/plain": [
       "sex                  1     2\n",
       "default marriage            \n",
       "0       0           12    35\n",
       "        1         3639  6139\n",
       "        2         4791  7096\n",
       "        3           89   135\n",
       "1       0            2     3\n",
       "        1         1214  1688\n",
       "        2         1367  1676\n",
       "        3           36    41"
      ]
     },
     "execution_count": 57,
     "metadata": {},
     "output_type": "execute_result"
    }
   ],
   "source": [
    "# Customers who did and did not default by marital status and sex\n",
    "table = pd.crosstab(index=[credit.default,credit.marriage],\n",
    "                    columns=[credit.sex])\n",
    "table"
   ]
  },
  {
   "cell_type": "code",
   "execution_count": 58,
   "metadata": {},
   "outputs": [
    {
     "data": {
      "text/html": [
       "<div>\n",
       "<style scoped>\n",
       "    .dataframe tbody tr th:only-of-type {\n",
       "        vertical-align: middle;\n",
       "    }\n",
       "\n",
       "    .dataframe tbody tr th {\n",
       "        vertical-align: top;\n",
       "    }\n",
       "\n",
       "    .dataframe thead tr th {\n",
       "        text-align: left;\n",
       "    }\n",
       "\n",
       "    .dataframe thead tr:last-of-type th {\n",
       "        text-align: right;\n",
       "    }\n",
       "</style>\n",
       "<table border=\"1\" class=\"dataframe\">\n",
       "  <thead>\n",
       "    <tr>\n",
       "      <th>sex</th>\n",
       "      <th colspan=\"4\" halign=\"left\">1</th>\n",
       "      <th colspan=\"4\" halign=\"left\">2</th>\n",
       "    </tr>\n",
       "    <tr>\n",
       "      <th>marriage</th>\n",
       "      <th>0</th>\n",
       "      <th>1</th>\n",
       "      <th>2</th>\n",
       "      <th>3</th>\n",
       "      <th>0</th>\n",
       "      <th>1</th>\n",
       "      <th>2</th>\n",
       "      <th>3</th>\n",
       "    </tr>\n",
       "    <tr>\n",
       "      <th>default</th>\n",
       "      <th></th>\n",
       "      <th></th>\n",
       "      <th></th>\n",
       "      <th></th>\n",
       "      <th></th>\n",
       "      <th></th>\n",
       "      <th></th>\n",
       "      <th></th>\n",
       "    </tr>\n",
       "  </thead>\n",
       "  <tbody>\n",
       "    <tr>\n",
       "      <th>0</th>\n",
       "      <td>12</td>\n",
       "      <td>3639</td>\n",
       "      <td>4791</td>\n",
       "      <td>89</td>\n",
       "      <td>35</td>\n",
       "      <td>6139</td>\n",
       "      <td>7096</td>\n",
       "      <td>135</td>\n",
       "    </tr>\n",
       "    <tr>\n",
       "      <th>1</th>\n",
       "      <td>2</td>\n",
       "      <td>1214</td>\n",
       "      <td>1367</td>\n",
       "      <td>36</td>\n",
       "      <td>3</td>\n",
       "      <td>1688</td>\n",
       "      <td>1676</td>\n",
       "      <td>41</td>\n",
       "    </tr>\n",
       "  </tbody>\n",
       "</table>\n",
       "</div>"
      ],
      "text/plain": [
       "sex        1                   2                 \n",
       "marriage   0     1     2   3   0     1     2    3\n",
       "default                                          \n",
       "0         12  3639  4791  89  35  6139  7096  135\n",
       "1          2  1214  1367  36   3  1688  1676   41"
      ]
     },
     "execution_count": 58,
     "metadata": {},
     "output_type": "execute_result"
    }
   ],
   "source": [
    "# Alternate table view\n",
    "table.unstack()"
   ]
  },
  {
   "cell_type": "code",
   "execution_count": 59,
   "metadata": {},
   "outputs": [
    {
     "data": {
      "text/plain": [
       "<seaborn.axisgrid.FacetGrid at 0x26c29bc6da0>"
      ]
     },
     "execution_count": 59,
     "metadata": {},
     "output_type": "execute_result"
    },
    {
     "data": {
      "image/png": "[encoded data removed]",
      "text/plain": [
       "<matplotlib.figure.Figure at 0x26c2b547898>"
      ]
     },
     "metadata": {},
     "output_type": "display_data"
    }
   ],
   "source": [
    "# Do the same as above, but split the customers into either default or not\n",
    "sns.factorplot('marriage', data=credit, kind='count', hue='sex', \n",
    "               col='default', aspect=1.25, size=5)"
   ]
  },
  {
   "cell_type": "code",
   "execution_count": 60,
   "metadata": {
    "scrolled": true
   },
   "outputs": [
    {
     "data": {
      "text/html": [
       "<div>\n",
       "<style scoped>\n",
       "    .dataframe tbody tr th:only-of-type {\n",
       "        vertical-align: middle;\n",
       "    }\n",
       "\n",
       "    .dataframe tbody tr th {\n",
       "        vertical-align: top;\n",
       "    }\n",
       "\n",
       "    .dataframe thead tr th {\n",
       "        text-align: left;\n",
       "    }\n",
       "\n",
       "    .dataframe thead tr:last-of-type th {\n",
       "        text-align: right;\n",
       "    }\n",
       "</style>\n",
       "<table border=\"1\" class=\"dataframe\">\n",
       "  <thead>\n",
       "    <tr>\n",
       "      <th></th>\n",
       "      <th>sex</th>\n",
       "      <th colspan=\"5\" halign=\"left\">1</th>\n",
       "      <th colspan=\"5\" halign=\"left\">2</th>\n",
       "    </tr>\n",
       "    <tr>\n",
       "      <th></th>\n",
       "      <th>AgeBracket</th>\n",
       "      <th>18-24</th>\n",
       "      <th>25-34</th>\n",
       "      <th>35-44</th>\n",
       "      <th>45-54</th>\n",
       "      <th>55+</th>\n",
       "      <th>18-24</th>\n",
       "      <th>25-34</th>\n",
       "      <th>35-44</th>\n",
       "      <th>45-54</th>\n",
       "      <th>55+</th>\n",
       "    </tr>\n",
       "    <tr>\n",
       "      <th>default</th>\n",
       "      <th>marriage</th>\n",
       "      <th></th>\n",
       "      <th></th>\n",
       "      <th></th>\n",
       "      <th></th>\n",
       "      <th></th>\n",
       "      <th></th>\n",
       "      <th></th>\n",
       "      <th></th>\n",
       "      <th></th>\n",
       "      <th></th>\n",
       "    </tr>\n",
       "  </thead>\n",
       "  <tbody>\n",
       "    <tr>\n",
       "      <th rowspan=\"4\" valign=\"top\">0</th>\n",
       "      <th>0</th>\n",
       "      <td>0</td>\n",
       "      <td>2</td>\n",
       "      <td>6</td>\n",
       "      <td>4</td>\n",
       "      <td>0</td>\n",
       "      <td>3</td>\n",
       "      <td>12</td>\n",
       "      <td>9</td>\n",
       "      <td>9</td>\n",
       "      <td>2</td>\n",
       "    </tr>\n",
       "    <tr>\n",
       "      <th>1</th>\n",
       "      <td>21</td>\n",
       "      <td>708</td>\n",
       "      <td>1641</td>\n",
       "      <td>972</td>\n",
       "      <td>297</td>\n",
       "      <td>164</td>\n",
       "      <td>1846</td>\n",
       "      <td>2665</td>\n",
       "      <td>1207</td>\n",
       "      <td>257</td>\n",
       "    </tr>\n",
       "    <tr>\n",
       "      <th>2</th>\n",
       "      <td>491</td>\n",
       "      <td>2929</td>\n",
       "      <td>982</td>\n",
       "      <td>309</td>\n",
       "      <td>80</td>\n",
       "      <td>1184</td>\n",
       "      <td>4185</td>\n",
       "      <td>1216</td>\n",
       "      <td>441</td>\n",
       "      <td>70</td>\n",
       "    </tr>\n",
       "    <tr>\n",
       "      <th>3</th>\n",
       "      <td>2</td>\n",
       "      <td>14</td>\n",
       "      <td>30</td>\n",
       "      <td>30</td>\n",
       "      <td>13</td>\n",
       "      <td>5</td>\n",
       "      <td>22</td>\n",
       "      <td>51</td>\n",
       "      <td>46</td>\n",
       "      <td>11</td>\n",
       "    </tr>\n",
       "    <tr>\n",
       "      <th rowspan=\"4\" valign=\"top\">1</th>\n",
       "      <th>0</th>\n",
       "      <td>0</td>\n",
       "      <td>2</td>\n",
       "      <td>0</td>\n",
       "      <td>0</td>\n",
       "      <td>0</td>\n",
       "      <td>0</td>\n",
       "      <td>0</td>\n",
       "      <td>3</td>\n",
       "      <td>0</td>\n",
       "      <td>0</td>\n",
       "    </tr>\n",
       "    <tr>\n",
       "      <th>1</th>\n",
       "      <td>15</td>\n",
       "      <td>230</td>\n",
       "      <td>518</td>\n",
       "      <td>354</td>\n",
       "      <td>97</td>\n",
       "      <td>69</td>\n",
       "      <td>520</td>\n",
       "      <td>658</td>\n",
       "      <td>350</td>\n",
       "      <td>91</td>\n",
       "    </tr>\n",
       "    <tr>\n",
       "      <th>2</th>\n",
       "      <td>210</td>\n",
       "      <td>742</td>\n",
       "      <td>312</td>\n",
       "      <td>86</td>\n",
       "      <td>17</td>\n",
       "      <td>397</td>\n",
       "      <td>891</td>\n",
       "      <td>267</td>\n",
       "      <td>101</td>\n",
       "      <td>20</td>\n",
       "    </tr>\n",
       "    <tr>\n",
       "      <th>3</th>\n",
       "      <td>1</td>\n",
       "      <td>4</td>\n",
       "      <td>12</td>\n",
       "      <td>15</td>\n",
       "      <td>4</td>\n",
       "      <td>2</td>\n",
       "      <td>8</td>\n",
       "      <td>11</td>\n",
       "      <td>14</td>\n",
       "      <td>6</td>\n",
       "    </tr>\n",
       "  </tbody>\n",
       "</table>\n",
       "</div>"
      ],
      "text/plain": [
       "sex                  1                            2                       \n",
       "AgeBracket       18-24 25-34 35-44 45-54  55+ 18-24 25-34 35-44 45-54  55+\n",
       "default marriage                                                          \n",
       "0       0            0     2     6     4    0     3    12     9     9    2\n",
       "        1           21   708  1641   972  297   164  1846  2665  1207  257\n",
       "        2          491  2929   982   309   80  1184  4185  1216   441   70\n",
       "        3            2    14    30    30   13     5    22    51    46   11\n",
       "1       0            0     2     0     0    0     0     0     3     0    0\n",
       "        1           15   230   518   354   97    69   520   658   350   91\n",
       "        2          210   742   312    86   17   397   891   267   101   20\n",
       "        3            1     4    12    15    4     2     8    11    14    6"
      ]
     },
     "execution_count": 60,
     "metadata": {},
     "output_type": "execute_result"
    }
   ],
   "source": [
    "# Customers who did and did not default by age group,sex, and marital status\n",
    "table = pd.crosstab(index=[credit.default,credit.marriage],\n",
    "                    columns=[credit.sex,credit.AgeBracket])\n",
    "table"
   ]
  },
  {
   "cell_type": "code",
   "execution_count": 61,
   "metadata": {
    "scrolled": false
   },
   "outputs": [
    {
     "data": {
      "text/html": [
       "<div>\n",
       "<style scoped>\n",
       "    .dataframe tbody tr th:only-of-type {\n",
       "        vertical-align: middle;\n",
       "    }\n",
       "\n",
       "    .dataframe tbody tr th {\n",
       "        vertical-align: top;\n",
       "    }\n",
       "\n",
       "    .dataframe thead tr th {\n",
       "        text-align: left;\n",
       "    }\n",
       "\n",
       "    .dataframe thead tr:last-of-type th {\n",
       "        text-align: right;\n",
       "    }\n",
       "</style>\n",
       "<table border=\"1\" class=\"dataframe\">\n",
       "  <thead>\n",
       "    <tr>\n",
       "      <th>sex</th>\n",
       "      <th colspan=\"10\" halign=\"left\">1</th>\n",
       "      <th>...</th>\n",
       "      <th colspan=\"10\" halign=\"left\">2</th>\n",
       "    </tr>\n",
       "    <tr>\n",
       "      <th>AgeBracket</th>\n",
       "      <th colspan=\"4\" halign=\"left\">18-24</th>\n",
       "      <th colspan=\"4\" halign=\"left\">25-34</th>\n",
       "      <th colspan=\"2\" halign=\"left\">35-44</th>\n",
       "      <th>...</th>\n",
       "      <th colspan=\"2\" halign=\"left\">35-44</th>\n",
       "      <th colspan=\"4\" halign=\"left\">45-54</th>\n",
       "      <th colspan=\"4\" halign=\"left\">55+</th>\n",
       "    </tr>\n",
       "    <tr>\n",
       "      <th>marriage</th>\n",
       "      <th>0</th>\n",
       "      <th>1</th>\n",
       "      <th>2</th>\n",
       "      <th>3</th>\n",
       "      <th>0</th>\n",
       "      <th>1</th>\n",
       "      <th>2</th>\n",
       "      <th>3</th>\n",
       "      <th>0</th>\n",
       "      <th>1</th>\n",
       "      <th>...</th>\n",
       "      <th>2</th>\n",
       "      <th>3</th>\n",
       "      <th>0</th>\n",
       "      <th>1</th>\n",
       "      <th>2</th>\n",
       "      <th>3</th>\n",
       "      <th>0</th>\n",
       "      <th>1</th>\n",
       "      <th>2</th>\n",
       "      <th>3</th>\n",
       "    </tr>\n",
       "    <tr>\n",
       "      <th>default</th>\n",
       "      <th></th>\n",
       "      <th></th>\n",
       "      <th></th>\n",
       "      <th></th>\n",
       "      <th></th>\n",
       "      <th></th>\n",
       "      <th></th>\n",
       "      <th></th>\n",
       "      <th></th>\n",
       "      <th></th>\n",
       "      <th></th>\n",
       "      <th></th>\n",
       "      <th></th>\n",
       "      <th></th>\n",
       "      <th></th>\n",
       "      <th></th>\n",
       "      <th></th>\n",
       "      <th></th>\n",
       "      <th></th>\n",
       "      <th></th>\n",
       "      <th></th>\n",
       "    </tr>\n",
       "  </thead>\n",
       "  <tbody>\n",
       "    <tr>\n",
       "      <th>0</th>\n",
       "      <td>0</td>\n",
       "      <td>21</td>\n",
       "      <td>491</td>\n",
       "      <td>2</td>\n",
       "      <td>2</td>\n",
       "      <td>708</td>\n",
       "      <td>2929</td>\n",
       "      <td>14</td>\n",
       "      <td>6</td>\n",
       "      <td>1641</td>\n",
       "      <td>...</td>\n",
       "      <td>1216</td>\n",
       "      <td>51</td>\n",
       "      <td>9</td>\n",
       "      <td>1207</td>\n",
       "      <td>441</td>\n",
       "      <td>46</td>\n",
       "      <td>2</td>\n",
       "      <td>257</td>\n",
       "      <td>70</td>\n",
       "      <td>11</td>\n",
       "    </tr>\n",
       "    <tr>\n",
       "      <th>1</th>\n",
       "      <td>0</td>\n",
       "      <td>15</td>\n",
       "      <td>210</td>\n",
       "      <td>1</td>\n",
       "      <td>2</td>\n",
       "      <td>230</td>\n",
       "      <td>742</td>\n",
       "      <td>4</td>\n",
       "      <td>0</td>\n",
       "      <td>518</td>\n",
       "      <td>...</td>\n",
       "      <td>267</td>\n",
       "      <td>11</td>\n",
       "      <td>0</td>\n",
       "      <td>350</td>\n",
       "      <td>101</td>\n",
       "      <td>14</td>\n",
       "      <td>0</td>\n",
       "      <td>91</td>\n",
       "      <td>20</td>\n",
       "      <td>6</td>\n",
       "    </tr>\n",
       "  </tbody>\n",
       "</table>\n",
       "<p>2 rows × 40 columns</p>\n",
       "</div>"
      ],
      "text/plain": [
       "sex            1                                              ...     2      \\\n",
       "AgeBracket 18-24             25-34                35-44       ... 35-44       \n",
       "marriage       0   1    2  3     0    1     2   3     0     1 ...     2   3   \n",
       "default                                                       ...             \n",
       "0              0  21  491  2     2  708  2929  14     6  1641 ...  1216  51   \n",
       "1              0  15  210  1     2  230   742   4     0   518 ...   267  11   \n",
       "\n",
       "sex                                               \n",
       "AgeBracket 45-54                55+               \n",
       "marriage       0     1    2   3   0    1   2   3  \n",
       "default                                           \n",
       "0              9  1207  441  46   2  257  70  11  \n",
       "1              0   350  101  14   0   91  20   6  \n",
       "\n",
       "[2 rows x 40 columns]"
      ]
     },
     "execution_count": 61,
     "metadata": {},
     "output_type": "execute_result"
    }
   ],
   "source": [
    "# Alternate table view\n",
    "table.unstack()"
   ]
  },
  {
   "cell_type": "markdown",
   "metadata": {},
   "source": [
    "## Additional Analysis"
   ]
  },
  {
   "cell_type": "code",
   "execution_count": 62,
   "metadata": {
    "scrolled": false
   },
   "outputs": [
    {
     "data": {
      "text/plain": [
       "<seaborn.axisgrid.FacetGrid at 0x26c2b9022e8>"
      ]
     },
     "execution_count": 62,
     "metadata": {},
     "output_type": "execute_result"
    },
    {
     "data": {
      "image/png": "[encoded data removed]",
      "text/plain": [
       "<matplotlib.figure.Figure at 0x26c2b902f98>"
      ]
     },
     "metadata": {},
     "output_type": "display_data"
    }
   ],
   "source": [
    "#Distribution of age by gender\n",
    "fig = sns.FacetGrid(credit, hue='sex', aspect=4)\n",
    "fig.map(sns.kdeplot, 'age', shade=True)\n",
    "oldest = credit['age'].max()\n",
    "fig.set(xlim=(0,oldest))\n",
    "fig.set(title='Distribution of Age Grouped by Gender')\n",
    "fig.add_legend()"
   ]
  },
  {
   "cell_type": "code",
   "execution_count": 63,
   "metadata": {
    "scrolled": false
   },
   "outputs": [
    {
     "data": {
      "text/plain": [
       "<seaborn.axisgrid.FacetGrid at 0x26c2bc20d68>"
      ]
     },
     "execution_count": 63,
     "metadata": {},
     "output_type": "execute_result"
    },
    {
     "data": {
      "image/png": "[encoded data removed]",
      "text/plain": [
       "<matplotlib.figure.Figure at 0x26c2bc25be0>"
      ]
     },
     "metadata": {},
     "output_type": "display_data"
    }
   ],
   "source": [
    "#Distribution of age by education level\n",
    "fig = sns.FacetGrid(credit, hue='education', aspect=4)\n",
    "fig.map(sns.kdeplot, 'age', shade=True)\n",
    "oldest = credit['age'].max()\n",
    "fig.set(xlim=(0,oldest))\n",
    "fig.set(title='Distribution of Age Grouped by Gender')\n",
    "fig.add_legend()"
   ]
  },
  {
   "cell_type": "code",
   "execution_count": 64,
   "metadata": {
    "scrolled": false
   },
   "outputs": [
    {
     "data": {
      "text/plain": [
       "<seaborn.axisgrid.FacetGrid at 0x26c2bb521d0>"
      ]
     },
     "execution_count": 64,
     "metadata": {},
     "output_type": "execute_result"
    },
    {
     "data": {
      "image/png": "[encoded data removed]",
      "text/plain": [
       "<matplotlib.figure.Figure at 0x26c2d325da0>"
      ]
     },
     "metadata": {},
     "output_type": "display_data"
    }
   ],
   "source": [
    "#Distribution of age by marital status\n",
    "fig = sns.FacetGrid(credit, hue='marriage', aspect=4)\n",
    "fig.map(sns.kdeplot, 'age', shade=True)\n",
    "oldest = credit['age'].max()\n",
    "fig.set(xlim=(0,oldest))\n",
    "fig.set(title='Distribution of Age Grouped by Gender')\n",
    "fig.add_legend()"
   ]
  },
  {
   "cell_type": "code",
   "execution_count": 65,
   "metadata": {
    "scrolled": false
   },
   "outputs": [
    {
     "data": {
      "text/plain": [
       "<seaborn.axisgrid.FacetGrid at 0x26c2d339828>"
      ]
     },
     "execution_count": 65,
     "metadata": {},
     "output_type": "execute_result"
    },
    {
     "data": {
      "image/png": "[encoded data removed]",
      "text/plain": [
       "<matplotlib.figure.Figure at 0x26c2b92fe10>"
      ]
     },
     "metadata": {},
     "output_type": "display_data"
    }
   ],
   "source": [
    "# Default rate by gender along age groups\n",
    "sns.factorplot('AgeBracket','default', hue='sex', data=credit)"
   ]
  },
  {
   "cell_type": "markdown",
   "metadata": {},
   "source": [
    "Males tend to have a higher defualt rate than females across most age groups. Higher age groups have limited records where females do actually show hight default rates though. "
   ]
  },
  {
   "cell_type": "code",
   "execution_count": 66,
   "metadata": {
    "scrolled": true
   },
   "outputs": [
    {
     "data": {
      "text/plain": [
       "<seaborn.axisgrid.FacetGrid at 0x26c2b575208>"
      ]
     },
     "execution_count": 66,
     "metadata": {},
     "output_type": "execute_result"
    },
    {
     "data": {
      "image/png": "[encoded data removed]",
      "text/plain": [
       "<matplotlib.figure.Figure at 0x26c2bbccda0>"
      ]
     },
     "metadata": {},
     "output_type": "display_data"
    }
   ],
   "source": [
    "# Default rate by education level along age groupsr\n",
    "sns.factorplot('AgeBracket','default', hue='education', data=credit)"
   ]
  },
  {
   "cell_type": "markdown",
   "metadata": {},
   "source": [
    "University and Highschool have the highest rates of default. Followed by graduate school then other with the lowest rate. "
   ]
  },
  {
   "cell_type": "code",
   "execution_count": 67,
   "metadata": {
    "scrolled": true
   },
   "outputs": [
    {
     "data": {
      "text/plain": [
       "<seaborn.axisgrid.FacetGrid at 0x26c2bb7ea20>"
      ]
     },
     "execution_count": 67,
     "metadata": {},
     "output_type": "execute_result"
    },
    {
     "data": {
      "image/png": "[encoded data removed]",
      "text/plain": [
       "<matplotlib.figure.Figure at 0x26c2b97d6a0>"
      ]
     },
     "metadata": {},
     "output_type": "display_data"
    }
   ],
   "source": [
    "# Default rate by marital status along age groups\n",
    "sns.factorplot('AgeBracket','default', hue='marriage', data=credit)"
   ]
  },
  {
   "cell_type": "markdown",
   "metadata": {},
   "source": [
    "Singles have a higher rate of default that married across the board. Divored is the highest and other is the lowest, but both are sporadic due to limited number of records"
   ]
  },
  {
   "cell_type": "code",
   "execution_count": 68,
   "metadata": {},
   "outputs": [
    {
     "data": {
      "text/plain": [
       "<seaborn.axisgrid.FacetGrid at 0x26c2be3ff98>"
      ]
     },
     "execution_count": 68,
     "metadata": {},
     "output_type": "execute_result"
    },
    {
     "data": {
      "image/png": "[encoded data removed]",
      "text/plain": [
       "<matplotlib.figure.Figure at 0x26c2b97db00>"
      ]
     },
     "metadata": {},
     "output_type": "display_data"
    }
   ],
   "source": [
    "sns.factorplot('default', data=credit, hue='education', kind='count', palette='Pastel2', hue_order=range(1,5),\n",
    "              col='sex')"
   ]
  },
  {
   "cell_type": "code",
   "execution_count": 69,
   "metadata": {
    "scrolled": true
   },
   "outputs": [
    {
     "data": {
      "text/plain": [
       "<seaborn.axisgrid.FacetGrid at 0x26c2d33fd68>"
      ]
     },
     "execution_count": 69,
     "metadata": {},
     "output_type": "execute_result"
    },
    {
     "data": {
      "image/png": "[encoded data removed]",
      "text/plain": [
       "<matplotlib.figure.Figure at 0x26c2b9689e8>"
      ]
     },
     "metadata": {},
     "output_type": "display_data"
    }
   ],
   "source": [
    "# Linear plot of age vs. default\n",
    "sns.lmplot('age', 'default', data=credit, hue='education')"
   ]
  },
  {
   "cell_type": "code",
   "execution_count": 70,
   "metadata": {
    "scrolled": false
   },
   "outputs": [
    {
     "data": {
      "text/plain": [
       "<seaborn.axisgrid.FacetGrid at 0x26c2d1403c8>"
      ]
     },
     "execution_count": 70,
     "metadata": {},
     "output_type": "execute_result"
    },
    {
     "data": {
      "image/png": "[encoded data removed]",
      "text/plain": [
       "<matplotlib.figure.Figure at 0x26c2ba915c0>"
      ]
     },
     "metadata": {},
     "output_type": "display_data"
    }
   ],
   "source": [
    "sns.lmplot('age','default',hue='education',data=credit,x_bins=bins, hue_order=[1,2,3,4])"
   ]
  },
  {
   "cell_type": "markdown",
   "metadata": {},
   "source": [
    "## Summary"
   ]
  },
  {
   "cell_type": "markdown",
   "metadata": {},
   "source": [
    "Key takeaways  \n",
    "\n",
    "• 90% of the data set is comprised of customers in their 20's - 40's. Any trends that happen in the 50's and beyond should not be weighted as heavily or we could possibly re arrange our age bins to get a more equal distribution.  \n",
    "• Women outnumber men 3 to 2 overall  \n",
    "• Men default at a higher rate than women  \n",
    "• Default rates of Education level - Highschool ~ Universtiy > Graduate school  \n",
    "• Default rates of Marital status - divorced > singles > married  \n",
    "\n",
    "Future recommendations\n",
    "\n",
    "We definitely have a good feel for the data set now and have spotted some obvious patterns. Now we can move forward with confidence building models to look for improved predictions for our Y variable. If anything comes back out of our expectations we can look back at our data analysis to see what we might have missed."
   ]
  }
 ],
 "metadata": {
  "kernelspec": {
   "display_name": "Python 3",
   "language": "python",
   "name": "python3"
  },
  "language_info": {
   "codemirror_mode": {
    "name": "ipython",
    "version": 3
   },
   "file_extension": ".py",
   "mimetype": "text/x-python",
   "name": "python",
   "nbconvert_exporter": "python",
   "pygments_lexer": "ipython3",
   "version": "3.6.4"
  }
 },
 "nbformat": 4,
 "nbformat_minor": 2
}
